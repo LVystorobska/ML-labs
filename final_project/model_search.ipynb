{
 "cells": [
  {
   "cell_type": "code",
   "execution_count": 21,
   "metadata": {},
   "outputs": [],
   "source": [
    "import numpy as np\n",
    "import pandas as pd\n",
    "import matplotlib.pyplot as plt\n",
    "import seaborn as sns\n",
    "sns.set(rc={'figure.figsize':(10, 8)})\n",
    "pd.set_option('display.max_columns', 1500)\n",
    "from sklearn.model_selection import train_test_split\n",
    "from sklearn.preprocessing import StandardScaler, LabelBinarizer\n",
    "from sklearn.tree import DecisionTreeClassifier\n",
    "import warnings\n",
    "warnings.filterwarnings('ignore')"
   ]
  },
  {
   "cell_type": "code",
   "execution_count": 22,
   "metadata": {},
   "outputs": [],
   "source": [
    "from sklearn.model_selection import train_test_split, GridSearchCV\n",
    "from sklearn.metrics import confusion_matrix, precision_score, recall_score, f1_score, classification_report, cohen_kappa_score\n",
    "from sklearn.neural_network import MLPClassifier\n",
    "from sklearn.neighbors import KNeighborsClassifier\n",
    "from sklearn.linear_model import LogisticRegression"
   ]
  },
  {
   "cell_type": "code",
   "execution_count": 23,
   "metadata": {},
   "outputs": [],
   "source": [
    "def print_results(y_true, y_pred):\n",
    "    print(confusion_matrix(y_true, y_pred))\n",
    "    print(classification_report(y_true, y_pred))\n",
    "    print('F1-score:', f1_score(y_true, y_pred, average='macro'))\n",
    "    print('cohen_kappa_score:', cohen_kappa_score(y_true, y_pred))\n",
    "    # print('roc_auc-score:', roc_auc_score(y_true, y_pred, average='weighted', multi_class='ovo'))\n",
    "def plot_validation_curve(model_grid, param_name, params=None):\n",
    "    results_df = pd.DataFrame(model_grid.cv_results_)\n",
    "    \n",
    "    if params == None:\n",
    "        plt.plot(results_df['param_'+param_name], results_df['mean_test_score'])\n",
    "    else:\n",
    "        plt.plot(params, results_df['mean_test_score'])\n",
    "\n",
    "    plt.xlabel(param_name)\n",
    "    plt.ylabel('Test F1 score')\n",
    "    plt.title('Validation curve')\n",
    "    plt.show()"
   ]
  },
  {
   "cell_type": "code",
   "execution_count": 24,
   "metadata": {},
   "outputs": [
    {
     "data": {
      "text/html": [
       "<div>\n",
       "<style scoped>\n",
       "    .dataframe tbody tr th:only-of-type {\n",
       "        vertical-align: middle;\n",
       "    }\n",
       "\n",
       "    .dataframe tbody tr th {\n",
       "        vertical-align: top;\n",
       "    }\n",
       "\n",
       "    .dataframe thead th {\n",
       "        text-align: right;\n",
       "    }\n",
       "</style>\n",
       "<table border=\"1\" class=\"dataframe\">\n",
       "  <thead>\n",
       "    <tr style=\"text-align: right;\">\n",
       "      <th></th>\n",
       "      <th>target</th>\n",
       "      <th>CALCULATION_METHOD_ID</th>\n",
       "      <th>DATA_VOLUME_WEEKDAYS</th>\n",
       "      <th>AVG_ARPU</th>\n",
       "      <th>phone_value</th>\n",
       "      <th>lifetime</th>\n",
       "      <th>how_long_same_model</th>\n",
       "      <th>ecommerce_score</th>\n",
       "      <th>MONOBANK</th>\n",
       "      <th>fb_volume</th>\n",
       "      <th>fb_count</th>\n",
       "      <th>instagram_volume</th>\n",
       "      <th>viber_volume</th>\n",
       "      <th>viber_count</th>\n",
       "      <th>youtube_volume</th>\n",
       "      <th>youtube_count</th>\n",
       "      <th>google_volume</th>\n",
       "      <th>google_count</th>\n",
       "      <th>gmail_volume</th>\n",
       "      <th>gmail_count</th>\n",
       "      <th>twitter_volume</th>\n",
       "      <th>twitter_count</th>\n",
       "      <th>itunes_volume</th>\n",
       "      <th>snapchat_volume</th>\n",
       "      <th>snapchat_count</th>\n",
       "      <th>linkedin_volume</th>\n",
       "      <th>linkedin_count</th>\n",
       "      <th>badoo_count</th>\n",
       "      <th>applemaps_volume</th>\n",
       "      <th>applemaps_count</th>\n",
       "      <th>cafe</th>\n",
       "      <th>entertain</th>\n",
       "      <th>1020</th>\n",
       "      <th>370</th>\n",
       "      <th>4659</th>\n",
       "      <th>5724</th>\n",
       "      <th>Apple</th>\n",
       "      <th>CITRUS.UA</th>\n",
       "      <th>FACEBOOK</th>\n",
       "      <th>Google</th>\n",
       "      <th>Instagram</th>\n",
       "      <th>OLX</th>\n",
       "      <th>Telegram</th>\n",
       "      <th>V B</th>\n",
       "      <th>VKcom</th>\n",
       "      <th>Viber</th>\n",
       "      <th>monobank</th>\n",
       "      <th>device_brand_Apple</th>\n",
       "      <th>device_brand_Meizu</th>\n",
       "      <th>device_brand_Nokia</th>\n",
       "      <th>device_brand_Samsung</th>\n",
       "      <th>device_brand_Xiaomi</th>\n",
       "      <th>software_os_vendor_Nokia</th>\n",
       "      <th>software_os_vendor_Samsung</th>\n",
       "      <th>software_os_name_40</th>\n",
       "      <th>software_os_name_Android</th>\n",
       "      <th>software_os_name_iOS</th>\n",
       "      <th>device_type_rus_smartphone</th>\n",
       "      <th>SCORING_MEDIUM</th>\n",
       "      <th>SCORING_VERY LOW</th>\n",
       "    </tr>\n",
       "  </thead>\n",
       "  <tbody>\n",
       "    <tr>\n",
       "      <th>0</th>\n",
       "      <td>2</td>\n",
       "      <td>1</td>\n",
       "      <td>97.518</td>\n",
       "      <td>119.665600</td>\n",
       "      <td>3.0</td>\n",
       "      <td>152.933333</td>\n",
       "      <td>22.0</td>\n",
       "      <td>0</td>\n",
       "      <td>0.0</td>\n",
       "      <td>1.2284</td>\n",
       "      <td>37.52</td>\n",
       "      <td>53.2015</td>\n",
       "      <td>1.5190</td>\n",
       "      <td>56.10</td>\n",
       "      <td>0.0234</td>\n",
       "      <td>2.00</td>\n",
       "      <td>10.7283</td>\n",
       "      <td>243.52</td>\n",
       "      <td>0.3263</td>\n",
       "      <td>6.71</td>\n",
       "      <td>0.0000</td>\n",
       "      <td>0.00</td>\n",
       "      <td>0.0000</td>\n",
       "      <td>0.0</td>\n",
       "      <td>0.0</td>\n",
       "      <td>0.0</td>\n",
       "      <td>0.0</td>\n",
       "      <td>0.0</td>\n",
       "      <td>0.0000</td>\n",
       "      <td>0.00</td>\n",
       "      <td>8.0</td>\n",
       "      <td>3.0</td>\n",
       "      <td>0.0</td>\n",
       "      <td>0.0</td>\n",
       "      <td>0.0</td>\n",
       "      <td>0.0</td>\n",
       "      <td>0.0</td>\n",
       "      <td>0.0</td>\n",
       "      <td>4.0</td>\n",
       "      <td>0.0</td>\n",
       "      <td>0.0</td>\n",
       "      <td>0.0</td>\n",
       "      <td>0.0</td>\n",
       "      <td>0.0</td>\n",
       "      <td>0.0</td>\n",
       "      <td>0.0</td>\n",
       "      <td>1.0</td>\n",
       "      <td>0</td>\n",
       "      <td>0</td>\n",
       "      <td>0</td>\n",
       "      <td>0</td>\n",
       "      <td>0</td>\n",
       "      <td>0</td>\n",
       "      <td>0</td>\n",
       "      <td>0</td>\n",
       "      <td>1</td>\n",
       "      <td>0</td>\n",
       "      <td>1</td>\n",
       "      <td>1</td>\n",
       "      <td>0</td>\n",
       "    </tr>\n",
       "    <tr>\n",
       "      <th>1</th>\n",
       "      <td>2</td>\n",
       "      <td>1</td>\n",
       "      <td>193.537</td>\n",
       "      <td>63.873725</td>\n",
       "      <td>2.0</td>\n",
       "      <td>143.366667</td>\n",
       "      <td>1.0</td>\n",
       "      <td>1</td>\n",
       "      <td>0.0</td>\n",
       "      <td>12.4769</td>\n",
       "      <td>93.19</td>\n",
       "      <td>60.4140</td>\n",
       "      <td>1.4249</td>\n",
       "      <td>36.29</td>\n",
       "      <td>0.8938</td>\n",
       "      <td>1.68</td>\n",
       "      <td>7.3500</td>\n",
       "      <td>42.03</td>\n",
       "      <td>0.0000</td>\n",
       "      <td>0.00</td>\n",
       "      <td>0.0399</td>\n",
       "      <td>2.03</td>\n",
       "      <td>1.1109</td>\n",
       "      <td>0.0</td>\n",
       "      <td>0.0</td>\n",
       "      <td>0.0</td>\n",
       "      <td>0.0</td>\n",
       "      <td>0.0</td>\n",
       "      <td>0.2515</td>\n",
       "      <td>12.06</td>\n",
       "      <td>3.0</td>\n",
       "      <td>0.0</td>\n",
       "      <td>0.0</td>\n",
       "      <td>0.0</td>\n",
       "      <td>0.0</td>\n",
       "      <td>0.0</td>\n",
       "      <td>2.0</td>\n",
       "      <td>0.0</td>\n",
       "      <td>0.0</td>\n",
       "      <td>0.0</td>\n",
       "      <td>0.0</td>\n",
       "      <td>3.0</td>\n",
       "      <td>0.0</td>\n",
       "      <td>0.0</td>\n",
       "      <td>0.0</td>\n",
       "      <td>0.0</td>\n",
       "      <td>0.0</td>\n",
       "      <td>1</td>\n",
       "      <td>0</td>\n",
       "      <td>0</td>\n",
       "      <td>0</td>\n",
       "      <td>0</td>\n",
       "      <td>0</td>\n",
       "      <td>0</td>\n",
       "      <td>0</td>\n",
       "      <td>0</td>\n",
       "      <td>1</td>\n",
       "      <td>1</td>\n",
       "      <td>0</td>\n",
       "      <td>0</td>\n",
       "    </tr>\n",
       "    <tr>\n",
       "      <th>2</th>\n",
       "      <td>4</td>\n",
       "      <td>1</td>\n",
       "      <td>0.000</td>\n",
       "      <td>0.999992</td>\n",
       "      <td>4.0</td>\n",
       "      <td>122.100000</td>\n",
       "      <td>25.0</td>\n",
       "      <td>0</td>\n",
       "      <td>0.0</td>\n",
       "      <td>0.0000</td>\n",
       "      <td>0.00</td>\n",
       "      <td>0.0000</td>\n",
       "      <td>0.0000</td>\n",
       "      <td>0.00</td>\n",
       "      <td>0.0000</td>\n",
       "      <td>0.00</td>\n",
       "      <td>0.0000</td>\n",
       "      <td>0.00</td>\n",
       "      <td>0.0000</td>\n",
       "      <td>0.00</td>\n",
       "      <td>0.0000</td>\n",
       "      <td>0.00</td>\n",
       "      <td>0.0000</td>\n",
       "      <td>0.0</td>\n",
       "      <td>0.0</td>\n",
       "      <td>0.0</td>\n",
       "      <td>0.0</td>\n",
       "      <td>0.0</td>\n",
       "      <td>0.0000</td>\n",
       "      <td>0.00</td>\n",
       "      <td>0.0</td>\n",
       "      <td>0.0</td>\n",
       "      <td>0.0</td>\n",
       "      <td>0.0</td>\n",
       "      <td>0.0</td>\n",
       "      <td>0.0</td>\n",
       "      <td>0.0</td>\n",
       "      <td>0.0</td>\n",
       "      <td>0.0</td>\n",
       "      <td>0.0</td>\n",
       "      <td>0.0</td>\n",
       "      <td>0.0</td>\n",
       "      <td>0.0</td>\n",
       "      <td>0.0</td>\n",
       "      <td>0.0</td>\n",
       "      <td>0.0</td>\n",
       "      <td>0.0</td>\n",
       "      <td>0</td>\n",
       "      <td>0</td>\n",
       "      <td>0</td>\n",
       "      <td>0</td>\n",
       "      <td>0</td>\n",
       "      <td>0</td>\n",
       "      <td>0</td>\n",
       "      <td>0</td>\n",
       "      <td>0</td>\n",
       "      <td>0</td>\n",
       "      <td>0</td>\n",
       "      <td>0</td>\n",
       "      <td>1</td>\n",
       "    </tr>\n",
       "    <tr>\n",
       "      <th>3</th>\n",
       "      <td>6</td>\n",
       "      <td>2</td>\n",
       "      <td>0.000</td>\n",
       "      <td>55.019458</td>\n",
       "      <td>4.0</td>\n",
       "      <td>143.200000</td>\n",
       "      <td>15.0</td>\n",
       "      <td>0</td>\n",
       "      <td>0.0</td>\n",
       "      <td>0.0000</td>\n",
       "      <td>0.00</td>\n",
       "      <td>0.0000</td>\n",
       "      <td>0.0000</td>\n",
       "      <td>0.00</td>\n",
       "      <td>0.0000</td>\n",
       "      <td>0.00</td>\n",
       "      <td>0.0000</td>\n",
       "      <td>0.00</td>\n",
       "      <td>0.0000</td>\n",
       "      <td>0.00</td>\n",
       "      <td>0.0000</td>\n",
       "      <td>0.00</td>\n",
       "      <td>0.0000</td>\n",
       "      <td>0.0</td>\n",
       "      <td>0.0</td>\n",
       "      <td>0.0</td>\n",
       "      <td>0.0</td>\n",
       "      <td>0.0</td>\n",
       "      <td>0.0000</td>\n",
       "      <td>0.00</td>\n",
       "      <td>0.0</td>\n",
       "      <td>0.0</td>\n",
       "      <td>0.0</td>\n",
       "      <td>0.0</td>\n",
       "      <td>0.0</td>\n",
       "      <td>0.0</td>\n",
       "      <td>0.0</td>\n",
       "      <td>0.0</td>\n",
       "      <td>0.0</td>\n",
       "      <td>0.0</td>\n",
       "      <td>0.0</td>\n",
       "      <td>0.0</td>\n",
       "      <td>0.0</td>\n",
       "      <td>0.0</td>\n",
       "      <td>0.0</td>\n",
       "      <td>0.0</td>\n",
       "      <td>0.0</td>\n",
       "      <td>0</td>\n",
       "      <td>0</td>\n",
       "      <td>1</td>\n",
       "      <td>0</td>\n",
       "      <td>0</td>\n",
       "      <td>1</td>\n",
       "      <td>0</td>\n",
       "      <td>1</td>\n",
       "      <td>0</td>\n",
       "      <td>0</td>\n",
       "      <td>0</td>\n",
       "      <td>1</td>\n",
       "      <td>0</td>\n",
       "    </tr>\n",
       "    <tr>\n",
       "      <th>4</th>\n",
       "      <td>6</td>\n",
       "      <td>2</td>\n",
       "      <td>87.435</td>\n",
       "      <td>49.031008</td>\n",
       "      <td>3.0</td>\n",
       "      <td>196.300000</td>\n",
       "      <td>1.0</td>\n",
       "      <td>0</td>\n",
       "      <td>0.0</td>\n",
       "      <td>0.0688</td>\n",
       "      <td>5.61</td>\n",
       "      <td>0.0000</td>\n",
       "      <td>0.4792</td>\n",
       "      <td>23.77</td>\n",
       "      <td>0.0261</td>\n",
       "      <td>0.29</td>\n",
       "      <td>10.0046</td>\n",
       "      <td>193.81</td>\n",
       "      <td>0.0082</td>\n",
       "      <td>0.84</td>\n",
       "      <td>0.0071</td>\n",
       "      <td>0.45</td>\n",
       "      <td>0.0000</td>\n",
       "      <td>0.0</td>\n",
       "      <td>0.0</td>\n",
       "      <td>0.0</td>\n",
       "      <td>0.0</td>\n",
       "      <td>0.0</td>\n",
       "      <td>0.0000</td>\n",
       "      <td>0.00</td>\n",
       "      <td>0.0</td>\n",
       "      <td>0.0</td>\n",
       "      <td>0.0</td>\n",
       "      <td>0.0</td>\n",
       "      <td>0.0</td>\n",
       "      <td>0.0</td>\n",
       "      <td>0.0</td>\n",
       "      <td>0.0</td>\n",
       "      <td>0.0</td>\n",
       "      <td>1.0</td>\n",
       "      <td>0.0</td>\n",
       "      <td>0.0</td>\n",
       "      <td>0.0</td>\n",
       "      <td>0.0</td>\n",
       "      <td>0.0</td>\n",
       "      <td>0.0</td>\n",
       "      <td>0.0</td>\n",
       "      <td>0</td>\n",
       "      <td>1</td>\n",
       "      <td>0</td>\n",
       "      <td>0</td>\n",
       "      <td>0</td>\n",
       "      <td>0</td>\n",
       "      <td>0</td>\n",
       "      <td>0</td>\n",
       "      <td>1</td>\n",
       "      <td>0</td>\n",
       "      <td>1</td>\n",
       "      <td>0</td>\n",
       "      <td>0</td>\n",
       "    </tr>\n",
       "  </tbody>\n",
       "</table>\n",
       "</div>"
      ],
      "text/plain": [
       "   target  CALCULATION_METHOD_ID  DATA_VOLUME_WEEKDAYS    AVG_ARPU  \\\n",
       "0       2                      1                97.518  119.665600   \n",
       "1       2                      1               193.537   63.873725   \n",
       "2       4                      1                 0.000    0.999992   \n",
       "3       6                      2                 0.000   55.019458   \n",
       "4       6                      2                87.435   49.031008   \n",
       "\n",
       "   phone_value    lifetime  how_long_same_model  ecommerce_score  MONOBANK  \\\n",
       "0          3.0  152.933333                 22.0                0       0.0   \n",
       "1          2.0  143.366667                  1.0                1       0.0   \n",
       "2          4.0  122.100000                 25.0                0       0.0   \n",
       "3          4.0  143.200000                 15.0                0       0.0   \n",
       "4          3.0  196.300000                  1.0                0       0.0   \n",
       "\n",
       "   fb_volume  fb_count  instagram_volume  viber_volume  viber_count  \\\n",
       "0     1.2284     37.52           53.2015        1.5190        56.10   \n",
       "1    12.4769     93.19           60.4140        1.4249        36.29   \n",
       "2     0.0000      0.00            0.0000        0.0000         0.00   \n",
       "3     0.0000      0.00            0.0000        0.0000         0.00   \n",
       "4     0.0688      5.61            0.0000        0.4792        23.77   \n",
       "\n",
       "   youtube_volume  youtube_count  google_volume  google_count  gmail_volume  \\\n",
       "0          0.0234           2.00        10.7283        243.52        0.3263   \n",
       "1          0.8938           1.68         7.3500         42.03        0.0000   \n",
       "2          0.0000           0.00         0.0000          0.00        0.0000   \n",
       "3          0.0000           0.00         0.0000          0.00        0.0000   \n",
       "4          0.0261           0.29        10.0046        193.81        0.0082   \n",
       "\n",
       "   gmail_count  twitter_volume  twitter_count  itunes_volume  snapchat_volume  \\\n",
       "0         6.71          0.0000           0.00         0.0000              0.0   \n",
       "1         0.00          0.0399           2.03         1.1109              0.0   \n",
       "2         0.00          0.0000           0.00         0.0000              0.0   \n",
       "3         0.00          0.0000           0.00         0.0000              0.0   \n",
       "4         0.84          0.0071           0.45         0.0000              0.0   \n",
       "\n",
       "   snapchat_count  linkedin_volume  linkedin_count  badoo_count  \\\n",
       "0             0.0              0.0             0.0          0.0   \n",
       "1             0.0              0.0             0.0          0.0   \n",
       "2             0.0              0.0             0.0          0.0   \n",
       "3             0.0              0.0             0.0          0.0   \n",
       "4             0.0              0.0             0.0          0.0   \n",
       "\n",
       "   applemaps_volume  applemaps_count  cafe  entertain  1020  370  4659  5724  \\\n",
       "0            0.0000             0.00   8.0        3.0   0.0  0.0   0.0   0.0   \n",
       "1            0.2515            12.06   3.0        0.0   0.0  0.0   0.0   0.0   \n",
       "2            0.0000             0.00   0.0        0.0   0.0  0.0   0.0   0.0   \n",
       "3            0.0000             0.00   0.0        0.0   0.0  0.0   0.0   0.0   \n",
       "4            0.0000             0.00   0.0        0.0   0.0  0.0   0.0   0.0   \n",
       "\n",
       "   Apple  CITRUS.UA  FACEBOOK  Google  Instagram  OLX  Telegram  V B  VKcom  \\\n",
       "0    0.0        0.0       4.0     0.0        0.0  0.0       0.0  0.0    0.0   \n",
       "1    2.0        0.0       0.0     0.0        0.0  3.0       0.0  0.0    0.0   \n",
       "2    0.0        0.0       0.0     0.0        0.0  0.0       0.0  0.0    0.0   \n",
       "3    0.0        0.0       0.0     0.0        0.0  0.0       0.0  0.0    0.0   \n",
       "4    0.0        0.0       0.0     1.0        0.0  0.0       0.0  0.0    0.0   \n",
       "\n",
       "   Viber  monobank  device_brand_Apple  device_brand_Meizu  \\\n",
       "0    0.0       1.0                   0                   0   \n",
       "1    0.0       0.0                   1                   0   \n",
       "2    0.0       0.0                   0                   0   \n",
       "3    0.0       0.0                   0                   0   \n",
       "4    0.0       0.0                   0                   1   \n",
       "\n",
       "   device_brand_Nokia  device_brand_Samsung  device_brand_Xiaomi  \\\n",
       "0                   0                     0                    0   \n",
       "1                   0                     0                    0   \n",
       "2                   0                     0                    0   \n",
       "3                   1                     0                    0   \n",
       "4                   0                     0                    0   \n",
       "\n",
       "   software_os_vendor_Nokia  software_os_vendor_Samsung  software_os_name_40  \\\n",
       "0                         0                           0                    0   \n",
       "1                         0                           0                    0   \n",
       "2                         0                           0                    0   \n",
       "3                         1                           0                    1   \n",
       "4                         0                           0                    0   \n",
       "\n",
       "   software_os_name_Android  software_os_name_iOS  device_type_rus_smartphone  \\\n",
       "0                         1                     0                           1   \n",
       "1                         0                     1                           1   \n",
       "2                         0                     0                           0   \n",
       "3                         0                     0                           0   \n",
       "4                         1                     0                           1   \n",
       "\n",
       "   SCORING_MEDIUM  SCORING_VERY LOW  \n",
       "0               1                 0  \n",
       "1               0                 0  \n",
       "2               0                 1  \n",
       "3               1                 0  \n",
       "4               0                 0  "
      ]
     },
     "execution_count": 24,
     "metadata": {},
     "output_type": "execute_result"
    }
   ],
   "source": [
    "df = pd.read_csv('age_final_numeric_corr_2.csv')\n",
    "df.head()"
   ]
  },
  {
   "cell_type": "code",
   "execution_count": 25,
   "metadata": {},
   "outputs": [
    {
     "data": {
      "text/plain": [
       "(28430, 59)"
      ]
     },
     "execution_count": 25,
     "metadata": {},
     "output_type": "execute_result"
    }
   ],
   "source": [
    "labels = df['target']\n",
    "df_mod = df.drop('target', axis=1)\n",
    "df_mod.shape"
   ]
  },
  {
   "cell_type": "code",
   "execution_count": 26,
   "metadata": {},
   "outputs": [
    {
     "data": {
      "image/png": "[encoded data removed]",
      "text/plain": [
       "<Figure size 720x576 with 1 Axes>"
      ]
     },
     "metadata": {},
     "output_type": "display_data"
    }
   ],
   "source": [
    "labels.value_counts(normalize=True).plot(kind='barh')\n",
    "plt.show()"
   ]
  },
  {
   "cell_type": "code",
   "execution_count": 27,
   "metadata": {},
   "outputs": [],
   "source": [
    "scaler = StandardScaler()\n",
    "# features standartizing#\n",
    "X = scaler.fit_transform(df_mod)"
   ]
  },
  {
   "cell_type": "code",
   "execution_count": 28,
   "metadata": {},
   "outputs": [],
   "source": [
    "X_train, X_valid, y_train, y_valid = train_test_split(X, labels, test_size=0.15, random_state=16)"
   ]
  },
  {
   "cell_type": "markdown",
   "metadata": {},
   "source": [
    "KNN"
   ]
  },
  {
   "cell_type": "code",
   "execution_count": 29,
   "metadata": {},
   "outputs": [
    {
     "data": {
      "text/plain": [
       "KNeighborsClassifier()"
      ]
     },
     "execution_count": 29,
     "metadata": {},
     "output_type": "execute_result"
    }
   ],
   "source": [
    "knn = KNeighborsClassifier()\n",
    "knn.fit(X_train, y_train)"
   ]
  },
  {
   "cell_type": "code",
   "execution_count": 30,
   "metadata": {},
   "outputs": [
    {
     "name": "stdout",
     "output_type": "stream",
     "text": [
      "[[339 141  61  37  30  35]\n",
      " [250 225  71  49  23  21]\n",
      " [133 112 164 109 113  67]\n",
      " [ 79  55 166 223 152 100]\n",
      " [ 48  38  80 167 220 198]\n",
      " [ 39  17  56 110 201 336]]\n",
      "              precision    recall  f1-score   support\n",
      "\n",
      "           1       0.38      0.53      0.44       643\n",
      "           2       0.38      0.35      0.37       639\n",
      "           3       0.27      0.23      0.25       698\n",
      "           4       0.32      0.29      0.30       775\n",
      "           5       0.30      0.29      0.30       751\n",
      "           6       0.44      0.44      0.44       759\n",
      "\n",
      "    accuracy                           0.35      4265\n",
      "   macro avg       0.35      0.36      0.35      4265\n",
      "weighted avg       0.35      0.35      0.35      4265\n",
      "\n",
      "F1-score: 0.3507762566128288\n",
      "cohen_kappa_score: 0.22397902932379665\n"
     ]
    }
   ],
   "source": [
    "y_pred = knn.predict(X_valid)\n",
    "print_results(y_valid, y_pred)"
   ]
  },
  {
   "cell_type": "code",
   "execution_count": 31,
   "metadata": {},
   "outputs": [
    {
     "data": {
      "text/plain": [
       "GridSearchCV(cv=5, estimator=KNeighborsClassifier(),\n",
       "             param_grid={'n_neighbors': array([25, 27, 29, 31, 33, 35, 37, 39])},\n",
       "             scoring='f1_macro')"
      ]
     },
     "execution_count": 31,
     "metadata": {},
     "output_type": "execute_result"
    }
   ],
   "source": [
    "from sklearn.model_selection import GridSearchCV\n",
    "\n",
    "# firstly, already tried range (1, 15), as curve indicated raising \n",
    "# trend, the range was shifted -> 37 best\n",
    "\n",
    "knn_params={'n_neighbors': np.arange(25, 41, 2)}\n",
    "\n",
    "knn_grid = GridSearchCV(knn, knn_params, cv=5, scoring='f1_macro')\n",
    "knn_grid.fit(X_train, y_train)"
   ]
  },
  {
   "cell_type": "code",
   "execution_count": 32,
   "metadata": {},
   "outputs": [
    {
     "name": "stdout",
     "output_type": "stream",
     "text": [
      "{'n_neighbors': 33}\n",
      "KNeighborsClassifier(n_neighbors=33)\n"
     ]
    },
    {
     "data": {
      "text/html": [
       "<div>\n",
       "<style scoped>\n",
       "    .dataframe tbody tr th:only-of-type {\n",
       "        vertical-align: middle;\n",
       "    }\n",
       "\n",
       "    .dataframe tbody tr th {\n",
       "        vertical-align: top;\n",
       "    }\n",
       "\n",
       "    .dataframe thead th {\n",
       "        text-align: right;\n",
       "    }\n",
       "</style>\n",
       "<table border=\"1\" class=\"dataframe\">\n",
       "  <thead>\n",
       "    <tr style=\"text-align: right;\">\n",
       "      <th></th>\n",
       "      <th>0</th>\n",
       "      <th>1</th>\n",
       "      <th>2</th>\n",
       "      <th>3</th>\n",
       "      <th>4</th>\n",
       "      <th>5</th>\n",
       "      <th>6</th>\n",
       "      <th>7</th>\n",
       "    </tr>\n",
       "  </thead>\n",
       "  <tbody>\n",
       "    <tr>\n",
       "      <th>mean_fit_time</th>\n",
       "      <td>0.007211</td>\n",
       "      <td>0.005705</td>\n",
       "      <td>0.008002</td>\n",
       "      <td>0.006994</td>\n",
       "      <td>0.006214</td>\n",
       "      <td>0.006219</td>\n",
       "      <td>0.007904</td>\n",
       "      <td>0.006782</td>\n",
       "    </tr>\n",
       "    <tr>\n",
       "      <th>std_fit_time</th>\n",
       "      <td>0.001932</td>\n",
       "      <td>0.003028</td>\n",
       "      <td>0.001285</td>\n",
       "      <td>0.002097</td>\n",
       "      <td>0.000409</td>\n",
       "      <td>0.000519</td>\n",
       "      <td>0.00215</td>\n",
       "      <td>0.000642</td>\n",
       "    </tr>\n",
       "    <tr>\n",
       "      <th>mean_score_time</th>\n",
       "      <td>1.936987</td>\n",
       "      <td>2.020166</td>\n",
       "      <td>2.094441</td>\n",
       "      <td>1.989629</td>\n",
       "      <td>1.998975</td>\n",
       "      <td>2.020433</td>\n",
       "      <td>1.987862</td>\n",
       "      <td>2.084269</td>\n",
       "    </tr>\n",
       "    <tr>\n",
       "      <th>std_score_time</th>\n",
       "      <td>0.137266</td>\n",
       "      <td>0.07203</td>\n",
       "      <td>0.032392</td>\n",
       "      <td>0.081998</td>\n",
       "      <td>0.034694</td>\n",
       "      <td>0.08768</td>\n",
       "      <td>0.066704</td>\n",
       "      <td>0.118908</td>\n",
       "    </tr>\n",
       "    <tr>\n",
       "      <th>param_n_neighbors</th>\n",
       "      <td>25</td>\n",
       "      <td>27</td>\n",
       "      <td>29</td>\n",
       "      <td>31</td>\n",
       "      <td>33</td>\n",
       "      <td>35</td>\n",
       "      <td>37</td>\n",
       "      <td>39</td>\n",
       "    </tr>\n",
       "    <tr>\n",
       "      <th>params</th>\n",
       "      <td>{'n_neighbors': 25}</td>\n",
       "      <td>{'n_neighbors': 27}</td>\n",
       "      <td>{'n_neighbors': 29}</td>\n",
       "      <td>{'n_neighbors': 31}</td>\n",
       "      <td>{'n_neighbors': 33}</td>\n",
       "      <td>{'n_neighbors': 35}</td>\n",
       "      <td>{'n_neighbors': 37}</td>\n",
       "      <td>{'n_neighbors': 39}</td>\n",
       "    </tr>\n",
       "    <tr>\n",
       "      <th>split0_test_score</th>\n",
       "      <td>0.376871</td>\n",
       "      <td>0.373086</td>\n",
       "      <td>0.377963</td>\n",
       "      <td>0.379837</td>\n",
       "      <td>0.378463</td>\n",
       "      <td>0.380183</td>\n",
       "      <td>0.378423</td>\n",
       "      <td>0.381452</td>\n",
       "    </tr>\n",
       "    <tr>\n",
       "      <th>split1_test_score</th>\n",
       "      <td>0.379199</td>\n",
       "      <td>0.382481</td>\n",
       "      <td>0.380884</td>\n",
       "      <td>0.382855</td>\n",
       "      <td>0.383631</td>\n",
       "      <td>0.380264</td>\n",
       "      <td>0.378176</td>\n",
       "      <td>0.377824</td>\n",
       "    </tr>\n",
       "    <tr>\n",
       "      <th>split2_test_score</th>\n",
       "      <td>0.372582</td>\n",
       "      <td>0.372846</td>\n",
       "      <td>0.373317</td>\n",
       "      <td>0.37794</td>\n",
       "      <td>0.379066</td>\n",
       "      <td>0.375796</td>\n",
       "      <td>0.379368</td>\n",
       "      <td>0.377641</td>\n",
       "    </tr>\n",
       "    <tr>\n",
       "      <th>split3_test_score</th>\n",
       "      <td>0.383683</td>\n",
       "      <td>0.3785</td>\n",
       "      <td>0.383835</td>\n",
       "      <td>0.384235</td>\n",
       "      <td>0.386324</td>\n",
       "      <td>0.382769</td>\n",
       "      <td>0.382878</td>\n",
       "      <td>0.383801</td>\n",
       "    </tr>\n",
       "    <tr>\n",
       "      <th>split4_test_score</th>\n",
       "      <td>0.376423</td>\n",
       "      <td>0.372091</td>\n",
       "      <td>0.37323</td>\n",
       "      <td>0.374098</td>\n",
       "      <td>0.375206</td>\n",
       "      <td>0.377134</td>\n",
       "      <td>0.373389</td>\n",
       "      <td>0.375553</td>\n",
       "    </tr>\n",
       "    <tr>\n",
       "      <th>mean_test_score</th>\n",
       "      <td>0.377752</td>\n",
       "      <td>0.375801</td>\n",
       "      <td>0.377846</td>\n",
       "      <td>0.379793</td>\n",
       "      <td>0.380538</td>\n",
       "      <td>0.379229</td>\n",
       "      <td>0.378447</td>\n",
       "      <td>0.379254</td>\n",
       "    </tr>\n",
       "    <tr>\n",
       "      <th>std_test_score</th>\n",
       "      <td>0.003648</td>\n",
       "      <td>0.004044</td>\n",
       "      <td>0.00417</td>\n",
       "      <td>0.003605</td>\n",
       "      <td>0.003948</td>\n",
       "      <td>0.002477</td>\n",
       "      <td>0.003038</td>\n",
       "      <td>0.002961</td>\n",
       "    </tr>\n",
       "    <tr>\n",
       "      <th>rank_test_score</th>\n",
       "      <td>7</td>\n",
       "      <td>8</td>\n",
       "      <td>6</td>\n",
       "      <td>2</td>\n",
       "      <td>1</td>\n",
       "      <td>4</td>\n",
       "      <td>5</td>\n",
       "      <td>3</td>\n",
       "    </tr>\n",
       "  </tbody>\n",
       "</table>\n",
       "</div>"
      ],
      "text/plain": [
       "                                     0                    1  \\\n",
       "mean_fit_time                 0.007211             0.005705   \n",
       "std_fit_time                  0.001932             0.003028   \n",
       "mean_score_time               1.936987             2.020166   \n",
       "std_score_time                0.137266              0.07203   \n",
       "param_n_neighbors                   25                   27   \n",
       "params             {'n_neighbors': 25}  {'n_neighbors': 27}   \n",
       "split0_test_score             0.376871             0.373086   \n",
       "split1_test_score             0.379199             0.382481   \n",
       "split2_test_score             0.372582             0.372846   \n",
       "split3_test_score             0.383683               0.3785   \n",
       "split4_test_score             0.376423             0.372091   \n",
       "mean_test_score               0.377752             0.375801   \n",
       "std_test_score                0.003648             0.004044   \n",
       "rank_test_score                      7                    8   \n",
       "\n",
       "                                     2                    3  \\\n",
       "mean_fit_time                 0.008002             0.006994   \n",
       "std_fit_time                  0.001285             0.002097   \n",
       "mean_score_time               2.094441             1.989629   \n",
       "std_score_time                0.032392             0.081998   \n",
       "param_n_neighbors                   29                   31   \n",
       "params             {'n_neighbors': 29}  {'n_neighbors': 31}   \n",
       "split0_test_score             0.377963             0.379837   \n",
       "split1_test_score             0.380884             0.382855   \n",
       "split2_test_score             0.373317              0.37794   \n",
       "split3_test_score             0.383835             0.384235   \n",
       "split4_test_score              0.37323             0.374098   \n",
       "mean_test_score               0.377846             0.379793   \n",
       "std_test_score                 0.00417             0.003605   \n",
       "rank_test_score                      6                    2   \n",
       "\n",
       "                                     4                    5  \\\n",
       "mean_fit_time                 0.006214             0.006219   \n",
       "std_fit_time                  0.000409             0.000519   \n",
       "mean_score_time               1.998975             2.020433   \n",
       "std_score_time                0.034694              0.08768   \n",
       "param_n_neighbors                   33                   35   \n",
       "params             {'n_neighbors': 33}  {'n_neighbors': 35}   \n",
       "split0_test_score             0.378463             0.380183   \n",
       "split1_test_score             0.383631             0.380264   \n",
       "split2_test_score             0.379066             0.375796   \n",
       "split3_test_score             0.386324             0.382769   \n",
       "split4_test_score             0.375206             0.377134   \n",
       "mean_test_score               0.380538             0.379229   \n",
       "std_test_score                0.003948             0.002477   \n",
       "rank_test_score                      1                    4   \n",
       "\n",
       "                                     6                    7  \n",
       "mean_fit_time                 0.007904             0.006782  \n",
       "std_fit_time                   0.00215             0.000642  \n",
       "mean_score_time               1.987862             2.084269  \n",
       "std_score_time                0.066704             0.118908  \n",
       "param_n_neighbors                   37                   39  \n",
       "params             {'n_neighbors': 37}  {'n_neighbors': 39}  \n",
       "split0_test_score             0.378423             0.381452  \n",
       "split1_test_score             0.378176             0.377824  \n",
       "split2_test_score             0.379368             0.377641  \n",
       "split3_test_score             0.382878             0.383801  \n",
       "split4_test_score             0.373389             0.375553  \n",
       "mean_test_score               0.378447             0.379254  \n",
       "std_test_score                0.003038             0.002961  \n",
       "rank_test_score                      5                    3  "
      ]
     },
     "execution_count": 32,
     "metadata": {},
     "output_type": "execute_result"
    }
   ],
   "source": [
    "print(knn_grid.best_params_)\n",
    "print(knn_grid.best_estimator_)\n",
    "pd.DataFrame(knn_grid.cv_results_).T"
   ]
  },
  {
   "cell_type": "code",
   "execution_count": 33,
   "metadata": {},
   "outputs": [
    {
     "data": {
      "image/png": "[encoded data removed]",
      "text/plain": [
       "<Figure size 720x576 with 1 Axes>"
      ]
     },
     "metadata": {},
     "output_type": "display_data"
    }
   ],
   "source": [
    "import matplotlib.pyplot as plt\n",
    "results_df = pd.DataFrame(knn_grid.cv_results_)\n",
    "plt.plot(results_df['param_n_neighbors'], results_df['mean_test_score'])\n",
    "\n",
    "plt.xlabel('n_neighbors')\n",
    "plt.ylabel('Test accuracy')\n",
    "plt.title('Validation curve')\n",
    "plt.show()"
   ]
  },
  {
   "cell_type": "markdown",
   "metadata": {},
   "source": [
    "TREES"
   ]
  },
  {
   "cell_type": "code",
   "execution_count": 34,
   "metadata": {},
   "outputs": [
    {
     "name": "stdout",
     "output_type": "stream",
     "text": [
      "[[306 240   7  36  21  33]\n",
      " [245 283  43  38   4  26]\n",
      " [185  73  91 193  70  86]\n",
      " [108  11  70 308 133 145]\n",
      " [ 71   6  17 229 145 283]\n",
      " [ 65   1   6 154 104 429]]\n",
      "              precision    recall  f1-score   support\n",
      "\n",
      "           1       0.31      0.48      0.38       643\n",
      "           2       0.46      0.44      0.45       639\n",
      "           3       0.39      0.13      0.20       698\n",
      "           4       0.32      0.40      0.36       775\n",
      "           5       0.30      0.19      0.24       751\n",
      "           6       0.43      0.57      0.49       759\n",
      "\n",
      "    accuracy                           0.37      4265\n",
      "   macro avg       0.37      0.37      0.35      4265\n",
      "weighted avg       0.37      0.37      0.35      4265\n",
      "\n",
      "F1-score: 0.350484471075254\n",
      "cohen_kappa_score: 0.2387153399159967\n"
     ]
    }
   ],
   "source": [
    "tree = DecisionTreeClassifier(max_depth=3, random_state=37)\n",
    "tree.fit(X_train, y_train)\n",
    "\n",
    "y_pred = tree.predict(X_valid)\n",
    "print_results(y_valid, y_pred)"
   ]
  },
  {
   "cell_type": "code",
   "execution_count": 35,
   "metadata": {},
   "outputs": [
    {
     "name": "stdout",
     "output_type": "stream",
     "text": [
      "digraph Tree {\n",
      "node [shape=box] ;\n",
      "0 [label=\"CALCULATION_METHOD_ID <= 0.207\\ngini = 0.832\\nsamples = 24165\\nvalue = [3626, 3662, 3866, 4241, 4389, 4381]\"] ;\n",
      "1 [label=\"lifetime <= 0.188\\ngini = 0.813\\nsamples = 14515\\nvalue = [3296, 3428, 2841, 2178, 1559, 1213]\"] ;\n",
      "0 -> 1 [labeldistance=2.5, labelangle=45, headlabel=\"True\"] ;\n",
      "2 [label=\"instagram_volume <= -0.23\\ngini = 0.741\\nsamples = 9280\\nvalue = [3127, 3079, 1464, 743, 444, 423]\"] ;\n",
      "1 -> 2 ;\n",
      "3 [label=\"gini = 0.783\\nsamples = 5902\\nvalue = [1877, 1422, 1096, 675, 416, 416]\"] ;\n",
      "2 -> 3 ;\n",
      "4 [label=\"gini = 0.61\\nsamples = 3378\\nvalue = [1250, 1657, 368, 68, 28, 7]\"] ;\n",
      "2 -> 4 ;\n",
      "5 [label=\"instagram_volume <= -0.302\\ngini = 0.782\\nsamples = 5235\\nvalue = [169, 349, 1377, 1435, 1115, 790]\"] ;\n",
      "1 -> 5 ;\n",
      "6 [label=\"gini = 0.771\\nsamples = 3893\\nvalue = [99, 126, 825, 1112, 977, 754]\"] ;\n",
      "5 -> 6 ;\n",
      "7 [label=\"gini = 0.731\\nsamples = 1342\\nvalue = [70, 223, 552, 323, 138, 36]\"] ;\n",
      "5 -> 7 ;\n",
      "8 [label=\"fb_volume <= -0.361\\ngini = 0.747\\nsamples = 9650\\nvalue = [330, 234, 1025, 2063, 2830, 3168]\"] ;\n",
      "0 -> 8 [labeldistance=2.5, labelangle=-45, headlabel=\"False\"] ;\n",
      "9 [label=\"SCORING_VERY LOW <= 1.096\\ngini = 0.687\\nsamples = 5666\\nvalue = [164, 95, 408, 840, 1580, 2579]\"] ;\n",
      "8 -> 9 ;\n",
      "10 [label=\"gini = 0.715\\nsamples = 3956\\nvalue = [114, 64, 317, 701, 1247, 1513]\"] ;\n",
      "9 -> 10 ;\n",
      "11 [label=\"gini = 0.563\\nsamples = 1710\\nvalue = [50, 31, 91, 139, 333, 1066]\"] ;\n",
      "9 -> 11 ;\n",
      "12 [label=\"instagram_volume <= -0.287\\ngini = 0.759\\nsamples = 3984\\nvalue = [166, 139, 617, 1223, 1250, 589]\"] ;\n",
      "8 -> 12 ;\n",
      "13 [label=\"gini = 0.74\\nsamples = 2846\\nvalue = [107, 42, 323, 822, 1008, 544]\"] ;\n",
      "12 -> 13 ;\n",
      "14 [label=\"gini = 0.752\\nsamples = 1138\\nvalue = [59, 97, 294, 401, 242, 45]\"] ;\n",
      "12 -> 14 ;\n",
      "}\n"
     ]
    }
   ],
   "source": [
    "# from sklearn.tree import export_graphviz\n",
    "\n",
    "# export_graphviz(tree, out_file='tree.dot', feature_names=df_mod.columns)\n",
    "# print(open('tree.dot').read())"
   ]
  },
  {
   "cell_type": "code",
   "execution_count": 36,
   "metadata": {},
   "outputs": [],
   "source": [
    "from IPython import display\n",
    "display.Image('tree_59_features.png')"
   ]
  },
  {
   "cell_type": "code",
   "execution_count": 37,
   "metadata": {},
   "outputs": [
    {
     "name": "stdout",
     "output_type": "stream",
     "text": [
      "Best estimator by max depth: DecisionTreeClassifier(max_depth=6, random_state=37)\n",
      "Best score by max depth: 0.4144563044774704\n"
     ]
    },
    {
     "data": {
      "text/plain": [
       "Text(0, 0.5, 'Mean accuracy on test set')"
      ]
     },
     "execution_count": 37,
     "metadata": {},
     "output_type": "execute_result"
    },
    {
     "data": {
      "image/png": "[encoded data removed]",
      "text/plain": [
       "<Figure size 720x576 with 1 Axes>"
      ]
     },
     "metadata": {},
     "output_type": "display_data"
    }
   ],
   "source": [
    "tree_params = {'max_depth': np.arange(2, 16)}\n",
    "\n",
    "tree_grid = GridSearchCV(tree, tree_params, cv=5, scoring='f1_macro')\n",
    "tree_grid.fit(X_train, y_train)\n",
    "print('Best estimator by max depth:', tree_grid.best_estimator_)\n",
    "print('Best score by max depth:', tree_grid.best_score_)\n",
    "\n",
    "results_df = pd.DataFrame(tree_grid.cv_results_)\n",
    "plt.plot(results_df['param_max_depth'], results_df['mean_test_score'])\n",
    "plt.xlabel('max_depth')\n",
    "plt.ylabel('Mean accuracy on test set')"
   ]
  },
  {
   "cell_type": "code",
   "execution_count": 38,
   "metadata": {},
   "outputs": [
    {
     "name": "stdout",
     "output_type": "stream",
     "text": [
      "[[420 107  25  30  28  33]\n",
      " [280 241  66  15  16  21]\n",
      " [136  93 152 167  93  57]\n",
      " [ 65  33 111 304 172  90]\n",
      " [ 50   6  59 196 219 221]\n",
      " [ 35   8  17 112 178 409]]\n",
      "              precision    recall  f1-score   support\n",
      "\n",
      "           1       0.43      0.65      0.52       643\n",
      "           2       0.49      0.38      0.43       639\n",
      "           3       0.35      0.22      0.27       698\n",
      "           4       0.37      0.39      0.38       775\n",
      "           5       0.31      0.29      0.30       751\n",
      "           6       0.49      0.54      0.51       759\n",
      "\n",
      "    accuracy                           0.41      4265\n",
      "   macro avg       0.41      0.41      0.40      4265\n",
      "weighted avg       0.41      0.41      0.40      4265\n",
      "\n",
      "F1-score: 0.4013603672500737\n",
      "cohen_kappa_score: 0.29032692581969155\n"
     ]
    }
   ],
   "source": [
    "y_pred = tree_grid.best_estimator_.predict(X_valid)\n",
    "print_results(y_valid, y_pred)"
   ]
  },
  {
   "cell_type": "code",
   "execution_count": 39,
   "metadata": {},
   "outputs": [
    {
     "name": "stdout",
     "output_type": "stream",
     "text": [
      "Best estimator by max features: DecisionTreeClassifier(max_depth=7, max_features=1.0, random_state=37)\n",
      "Best score by max features: 0.41416133364704066\n"
     ]
    },
    {
     "data": {
      "text/plain": [
       "Text(0, 0.5, 'Mean accuracy on test set')"
      ]
     },
     "execution_count": 39,
     "metadata": {},
     "output_type": "execute_result"
    },
    {
     "data": {
      "image/png": "[encoded data removed]",
      "text/plain": [
       "<Figure size 720x576 with 1 Axes>"
      ]
     },
     "metadata": {},
     "output_type": "display_data"
    }
   ],
   "source": [
    "tree_params = {'max_features': np.array([0.4, 0.5, 0.6, 0.7, 0.9, 1.0]), 'max_depth': [7]}\n",
    "\n",
    "tree_grid = GridSearchCV(tree, tree_params, cv=5, scoring='f1_macro')\n",
    "tree_grid.fit(X_train, y_train)\n",
    "print('Best estimator by max features:', tree_grid.best_estimator_)\n",
    "print('Best score by max features:', tree_grid.best_score_)\n",
    "\n",
    "results_df = pd.DataFrame(tree_grid.cv_results_)\n",
    "plt.plot(results_df['param_max_features'], results_df['mean_test_score']) \n",
    "plt.xlabel('max_features')\n",
    "plt.ylabel('Mean accuracy on test set')"
   ]
  },
  {
   "cell_type": "code",
   "execution_count": 40,
   "metadata": {},
   "outputs": [
    {
     "name": "stdout",
     "output_type": "stream",
     "text": [
      "Best estimator by max depth: DecisionTreeClassifier(max_depth=7, max_features=0.8, min_samples_leaf=2,\n",
      "                       min_samples_split=8, random_state=37)\n",
      "Best score by max depth: 0.42408441961514587\n"
     ]
    }
   ],
   "source": [
    "tree_params = {'max_depth': np.arange(2, 11), 'min_samples_leaf': np.arange(2, 7),\n",
    "                'min_samples_split': np.arange(2, 11), 'max_features': np.array([0.7, 0.8, 0.9])}\n",
    "\n",
    "tree_grid = GridSearchCV(tree, tree_params, cv=5, scoring='accuracy') \n",
    "tree_grid.fit(X_train, y_train)\n",
    "\n",
    "pd.DataFrame(tree_grid.cv_results_).T\n",
    "\n",
    "print('Best estimator by max depth:', tree_grid.best_estimator_)\n",
    "print('Best score by max depth:', tree_grid.best_score_)"
   ]
  },
  {
   "cell_type": "code",
   "execution_count": 41,
   "metadata": {},
   "outputs": [
    {
     "name": "stdout",
     "output_type": "stream",
     "text": [
      "Feature ranking:\n",
      "1 CALCULATION_METHOD_ID 0.2964602702367317\n",
      "2 DATA_VOLUME_WEEKDAYS 0.2752695035086002\n",
      "3 AVG_ARPU 0.11501528119135597\n",
      "4 phone_value 0.07737546948479739\n",
      "5 lifetime 0.03019489323976516\n"
     ]
    },
    {
     "data": {
      "text/plain": [
       "<matplotlib.legend.Legend at 0x2cd50c89820>"
      ]
     },
     "execution_count": 41,
     "metadata": {},
     "output_type": "execute_result"
    },
    {
     "data": {
      "image/png": "[encoded data removed]",
      "text/plain": [
       "<Figure size 1080x360 with 1 Axes>"
      ]
     },
     "metadata": {},
     "output_type": "display_data"
    }
   ],
   "source": [
    "features = dict(zip(range(len(df_mod.columns)-1), df_mod.columns[:-1]))\n",
    "best_tree = tree_grid.best_estimator_\n",
    "importances = best_tree.feature_importances_\n",
    "indices = np.argsort(importances)[::-1]\n",
    "num_to_plot = 5\n",
    "feature_indices = [ind for ind in indices[:num_to_plot]]\n",
    "\n",
    "print('Feature ranking:')\n",
    "\n",
    "for f in range(num_to_plot):\n",
    "    print(f+1, features[f], \n",
    "    importances[indices[f]])\n",
    "\n",
    "plt.figure(figsize=(15,5))\n",
    "plt.title('Feature importances')\n",
    "bars = plt.bar(range(num_to_plot), \n",
    "               importances[indices[:num_to_plot]],\n",
    "               color=([str(i/float(num_to_plot+1)) for i in range(num_to_plot)]),\n",
    "               align='center')\n",
    "ticks = plt.xticks(range(num_to_plot), \n",
    "                   feature_indices)\n",
    "plt.xlim([-1, num_to_plot])\n",
    "plt.legend(bars, [u''.join(features[i]) for i in range(num_to_plot)])\n",
    "# with eda changes calc_meth decrease from 0.43 -> 0.33 -> 0.296;\n",
    "# data_volume rise from 0.23 -> 0.285#"
   ]
  },
  {
   "cell_type": "markdown",
   "metadata": {},
   "source": [
    "LOGISTIC REGRESSION"
   ]
  },
  {
   "cell_type": "code",
   "execution_count": 42,
   "metadata": {},
   "outputs": [
    {
     "name": "stdout",
     "output_type": "stream",
     "text": [
      "[[375 144  34  23  28  39]\n",
      " [207 279  86  24  11  32]\n",
      " [ 96 102 182 135 107  76]\n",
      " [ 54  33 118 245 192 133]\n",
      " [ 36  14  46 132 251 272]\n",
      " [ 25   3  18  55 180 478]]\n",
      "              precision    recall  f1-score   support\n",
      "\n",
      "           1       0.47      0.58      0.52       643\n",
      "           2       0.49      0.44      0.46       639\n",
      "           3       0.38      0.26      0.31       698\n",
      "           4       0.40      0.32      0.35       775\n",
      "           5       0.33      0.33      0.33       751\n",
      "           6       0.46      0.63      0.53       759\n",
      "\n",
      "    accuracy                           0.42      4265\n",
      "   macro avg       0.42      0.43      0.42      4265\n",
      "weighted avg       0.42      0.42      0.42      4265\n",
      "\n",
      "F1-score: 0.41788099832562353\n",
      "cohen_kappa_score: 0.3084132489384033\n"
     ]
    }
   ],
   "source": [
    "from sklearn.linear_model import LogisticRegression\n",
    "log_reg = LogisticRegression(multi_class='multinomial')\n",
    "log_reg.fit(X_train, y_train)\n",
    "y_pred = log_reg.predict(X_valid)\n",
    "print_results(y_valid, y_pred)"
   ]
  },
  {
   "cell_type": "code",
   "execution_count": 43,
   "metadata": {},
   "outputs": [
    {
     "name": "stdout",
     "output_type": "stream",
     "text": [
      "LBFGS\n",
      "{'C': 0.46415888336127775}\n",
      "0.42933909567725825\n"
     ]
    }
   ],
   "source": [
    "log_reg = LogisticRegression(solver='lbfgs', penalty='l2', multi_class='multinomial')\n",
    "\n",
    "C_values = {'C': np.logspace(-3, 3, 10)}\n",
    "logreg_grid = GridSearchCV(log_reg, C_values, cv=5, scoring='f1_macro')\n",
    "logreg_grid.fit(X_train, y_train)\n",
    "\n",
    "print('LBFGS')\n",
    "print(logreg_grid.best_params_)\n",
    "print(logreg_grid.best_score_)\n",
    "# with penalty worse result as lbfgs is a default solver - 19 features\n",
    "# for 59 features the situation has changed"
   ]
  },
  {
   "cell_type": "code",
   "execution_count": 44,
   "metadata": {},
   "outputs": [
    {
     "name": "stdout",
     "output_type": "stream",
     "text": [
      "NEWTON-CG\n",
      "{'C': 0.46415888336127775}\n",
      "0.4294580723313686\n"
     ]
    }
   ],
   "source": [
    "log_reg = LogisticRegression(solver='newton-cg', penalty='l2', multi_class='multinomial')\n",
    "\n",
    "C_values = {'C': np.logspace(-3, 3, 10)}\n",
    "logreg_grid = GridSearchCV(log_reg, C_values, cv=5, scoring='f1_macro')\n",
    "logreg_grid.fit(X_train, y_train)\n",
    "\n",
    "print('NEWTON-CG')\n",
    "print(logreg_grid.best_params_)\n",
    "print(logreg_grid.best_score_)"
   ]
  },
  {
   "cell_type": "code",
   "execution_count": 45,
   "metadata": {},
   "outputs": [
    {
     "name": "stdout",
     "output_type": "stream",
     "text": [
      "{'C': 3.593813663804626}\n",
      "0.42743484769191536\n"
     ]
    }
   ],
   "source": [
    "log_reg = LogisticRegression(solver='saga', penalty='elasticnet', l1_ratio=0.5, multi_class='multinomial')\n",
    "#  'saga' fast convergence is only guaranteed on features with approximately the same scale\n",
    "C_values = {'C': np.logspace(-3, 1, 10)}\n",
    "logreg_grid = GridSearchCV(log_reg, C_values, cv=5, scoring='f1_macro')\n",
    "logreg_grid.fit(X_train, y_train)\n",
    "\n",
    "print(logreg_grid.best_params_)\n",
    "print(logreg_grid.best_score_)\n",
    "# with not balanced classes - C = 0.001\n",
    "# earlier it was several times only C = 10\n",
    "# eda part changed this again to 0.46"
   ]
  },
  {
   "cell_type": "markdown",
   "metadata": {},
   "source": [
    "MLP CLASSIFIER"
   ]
  },
  {
   "cell_type": "code",
   "execution_count": 46,
   "metadata": {},
   "outputs": [
    {
     "name": "stdout",
     "output_type": "stream",
     "text": [
      "[[344 156  43  38  21  41]\n",
      " [165 311  95  25  11  32]\n",
      " [ 80 108 200 136 107  67]\n",
      " [ 42  31 158 234 182 128]\n",
      " [ 33  24  65 125 258 246]\n",
      " [ 24   4  26  62 180 463]]\n",
      "              precision    recall  f1-score   support\n",
      "\n",
      "           1       0.50      0.53      0.52       643\n",
      "           2       0.49      0.49      0.49       639\n",
      "           3       0.34      0.29      0.31       698\n",
      "           4       0.38      0.30      0.34       775\n",
      "           5       0.34      0.34      0.34       751\n",
      "           6       0.47      0.61      0.53       759\n",
      "\n",
      "    accuracy                           0.42      4265\n",
      "   macro avg       0.42      0.43      0.42      4265\n",
      "weighted avg       0.42      0.42      0.42      4265\n",
      "\n",
      "F1-score: 0.4212356794824603\n",
      "cohen_kappa_score: 0.308459245289773\n"
     ]
    }
   ],
   "source": [
    "mlp_ad = MLPClassifier(solver='adam')\n",
    "mlp_ad.fit(X_train, y_train)\n",
    "\n",
    "y_pred = mlp_ad.predict(X_valid)\n",
    "print_results(y_valid, y_pred)"
   ]
  },
  {
   "cell_type": "code",
   "execution_count": 47,
   "metadata": {},
   "outputs": [
    {
     "name": "stdout",
     "output_type": "stream",
     "text": [
      "[[320 165  55  39  25  39]\n",
      " [182 283  99  31  16  28]\n",
      " [ 86  93 206 146  95  72]\n",
      " [ 42  49 145 241 178 120]\n",
      " [ 36  19  62 151 228 255]\n",
      " [ 20  11  26  75 164 463]]\n",
      "              precision    recall  f1-score   support\n",
      "\n",
      "           1       0.47      0.50      0.48       643\n",
      "           2       0.46      0.44      0.45       639\n",
      "           3       0.35      0.30      0.32       698\n",
      "           4       0.35      0.31      0.33       775\n",
      "           5       0.32      0.30      0.31       751\n",
      "           6       0.47      0.61      0.53       759\n",
      "\n",
      "    accuracy                           0.41      4265\n",
      "   macro avg       0.40      0.41      0.40      4265\n",
      "weighted avg       0.40      0.41      0.40      4265\n",
      "\n",
      "F1-score: 0.40453875578150894\n",
      "cohen_kappa_score: 0.288882999352819\n"
     ]
    }
   ],
   "source": [
    "mlp_lbf = MLPClassifier(hidden_layer_sizes=(100, 50, 20), solver='lbfgs', alpha=0.001)\n",
    "mlp_lbf.fit(X_train, y_train)\n",
    "\n",
    "y_pred = mlp_lbf.predict(X_valid)\n",
    "print_results(y_valid, y_pred)"
   ]
  },
  {
   "cell_type": "code",
   "execution_count": 48,
   "metadata": {},
   "outputs": [
    {
     "data": {
      "image/png": "[encoded data removed]",
      "text/plain": [
       "<Figure size 720x576 with 1 Axes>"
      ]
     },
     "metadata": {},
     "output_type": "display_data"
    },
    {
     "name": "stdout",
     "output_type": "stream",
     "text": [
      "Best (hyper)parameters: {'activation': 'logistic'}\n",
      "Best score: 0.4276627239309132\n",
      "[[2481  491  233  104  143  174]\n",
      " [ 682 2256  475   72   69  108]\n",
      " [ 367  393 1866  485  458  297]\n",
      " [ 258  151  726 1472 1058  576]\n",
      " [ 170   87  417  554 1989 1172]\n",
      " [ 142   37  169  238 1044 2751]]\n",
      "              precision    recall  f1-score   support\n",
      "\n",
      "           1       0.61      0.68      0.64      3626\n",
      "           2       0.66      0.62      0.64      3662\n",
      "           3       0.48      0.48      0.48      3866\n",
      "           4       0.50      0.35      0.41      4241\n",
      "           5       0.42      0.45      0.43      4389\n",
      "           6       0.54      0.63      0.58      4381\n",
      "\n",
      "    accuracy                           0.53     24165\n",
      "   macro avg       0.53      0.54      0.53     24165\n",
      "weighted avg       0.53      0.53      0.53     24165\n",
      "\n",
      "F1-score: 0.5314134432459202\n",
      "cohen_kappa_score: 0.4356573610296215\n"
     ]
    }
   ],
   "source": [
    "param_grid = {'activation': ['logistic', 'tanh', 'relu']}\n",
    "model_grid = GridSearchCV(mlp_ad, param_grid, cv=5, scoring='f1_macro', \n",
    "                          n_jobs=-1)\n",
    "model_grid.fit(X_train, y_train)\n",
    "plot_validation_curve(model_grid, 'activation')\n",
    "print('Best (hyper)parameters:', model_grid.best_params_)\n",
    "print('Best score:', model_grid.best_score_)\n",
    "y_pred = model_grid.best_estimator_.predict(X_train)\n",
    "print_results(y_train, y_pred)"
   ]
  },
  {
   "cell_type": "markdown",
   "metadata": {},
   "source": [
    "SGD"
   ]
  },
  {
   "cell_type": "code",
   "execution_count": 49,
   "metadata": {},
   "outputs": [],
   "source": [
    "from sklearn.linear_model import SGDClassifier\n",
    "\n",
    "sgd_clf = SGDClassifier(random_state = 42)\n",
    "sgd_clf_log = SGDClassifier(random_state = 42, loss='log')"
   ]
  },
  {
   "cell_type": "code",
   "execution_count": 50,
   "metadata": {},
   "outputs": [
    {
     "data": {
      "text/plain": [
       "SGDClassifier(loss='log', random_state=42)"
      ]
     },
     "execution_count": 50,
     "metadata": {},
     "output_type": "execute_result"
    }
   ],
   "source": [
    "sgd_clf.fit(X_train, y_train)\n",
    "sgd_clf_log.fit(X_train, y_train)"
   ]
  },
  {
   "cell_type": "code",
   "execution_count": 51,
   "metadata": {},
   "outputs": [
    {
     "name": "stdout",
     "output_type": "stream",
     "text": [
      "0.34192641657788564\n",
      "0.36933030460016303\n"
     ]
    }
   ],
   "source": [
    "from sklearn.metrics import accuracy_score\n",
    "\n",
    "y_pred_sgd_clf = sgd_clf.predict(X_valid)\n",
    "y_pred_sgd_clf_log = sgd_clf_log.predict(X_valid)\n",
    "\n",
    "print(f1_score(y_valid, y_pred_sgd_clf, average='macro'))\n",
    "print(f1_score(y_valid, y_pred_sgd_clf_log, average='macro'))"
   ]
  }
 ],
 "metadata": {
  "interpreter": {
   "hash": "e37d4d0ca2b741f3200f91a57818feaa9a3fc1d1154b9f08d6aabe14a41e5dd1"
  },
  "kernelspec": {
   "display_name": "Python 3.8.10 64-bit",
   "language": "python",
   "name": "python3"
  },
  "language_info": {
   "codemirror_mode": {
    "name": "ipython",
    "version": 3
   },
   "file_extension": ".py",
   "mimetype": "text/x-python",
   "name": "python",
   "nbconvert_exporter": "python",
   "pygments_lexer": "ipython3",
   "version": "3.8.10"
  },
  "orig_nbformat": 4
 },
 "nbformat": 4,
 "nbformat_minor": 2
}
