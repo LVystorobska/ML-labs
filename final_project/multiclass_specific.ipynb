{
 "cells": [
  {
   "cell_type": "code",
   "execution_count": 1,
   "metadata": {},
   "outputs": [],
   "source": [
    "import pandas as pd\n",
    "import matplotlib.pyplot as plt\n",
    "import seaborn as sns\n",
    "sns.set(rc={'figure.figsize':(10, 8)})\n",
    "pd.set_option('display.max_columns', 1500)\n",
    "from sklearn.model_selection import train_test_split\n",
    "from sklearn.preprocessing import StandardScaler\n",
    "import warnings\n",
    "warnings.filterwarnings('ignore')"
   ]
  },
  {
   "cell_type": "code",
   "execution_count": 2,
   "metadata": {},
   "outputs": [],
   "source": [
    "from sklearn.model_selection import train_test_split\n",
    "from sklearn.metrics import confusion_matrix, f1_score, classification_report, cohen_kappa_score\n",
    "from sklearn.svm import NuSVC\n",
    "from sklearn.linear_model import PassiveAggressiveClassifier\n",
    "from sklearn.naive_bayes import BernoulliNB, GaussianNB\n",
    "from sklearn.discriminant_analysis import QuadraticDiscriminantAnalysis"
   ]
  },
  {
   "cell_type": "code",
   "execution_count": 3,
   "metadata": {},
   "outputs": [],
   "source": [
    "def print_results(y_true, y_pred):\n",
    "    print(confusion_matrix(y_true, y_pred))\n",
    "    print(classification_report(y_true, y_pred))\n",
    "    print('F1-score:', f1_score(y_true, y_pred, average='macro'))\n",
    "    print('cohen_kappa_score:', cohen_kappa_score(y_true, y_pred))\n",
    "def plot_validation_curve(model_grid, param_name, params=None):\n",
    "    results_df = pd.DataFrame(model_grid.cv_results_)\n",
    "    \n",
    "    if params == None:\n",
    "        plt.plot(results_df['param_'+param_name], results_df['mean_test_score'])\n",
    "    else:\n",
    "        plt.plot(params, results_df['mean_test_score'])\n",
    "\n",
    "    plt.xlabel(param_name)\n",
    "    plt.ylabel('Test F1 score')\n",
    "    plt.title('Validation curve')\n",
    "    plt.show()"
   ]
  },
  {
   "cell_type": "code",
   "execution_count": 4,
   "metadata": {},
   "outputs": [
    {
     "data": {
      "text/plain": [
       "(28430, 60)"
      ]
     },
     "execution_count": 4,
     "metadata": {},
     "output_type": "execute_result"
    }
   ],
   "source": [
    "df = pd.read_csv('age_final_numeric_corr_2.csv')\n",
    "df.shape"
   ]
  },
  {
   "cell_type": "code",
   "execution_count": 5,
   "metadata": {},
   "outputs": [
    {
     "data": {
      "text/plain": [
       "(28430, 59)"
      ]
     },
     "execution_count": 5,
     "metadata": {},
     "output_type": "execute_result"
    }
   ],
   "source": [
    "labels = df['target']\n",
    "df_mod = df.drop('target', axis=1)\n",
    "df_mod.shape"
   ]
  },
  {
   "cell_type": "code",
   "execution_count": 6,
   "metadata": {},
   "outputs": [],
   "source": [
    "scaler = StandardScaler()\n",
    "X = scaler.fit_transform(df_mod)"
   ]
  },
  {
   "cell_type": "code",
   "execution_count": 7,
   "metadata": {},
   "outputs": [],
   "source": [
    "X_train, X_valid, y_train, y_valid = train_test_split(X, labels, test_size=0.15, random_state=16)"
   ]
  },
  {
   "cell_type": "markdown",
   "metadata": {},
   "source": [
    "One-vs-One (SVC, Gaus., NuSVC)"
   ]
  },
  {
   "cell_type": "code",
   "execution_count": 8,
   "metadata": {},
   "outputs": [],
   "source": [
    "# kernel = 1.0 * RBF(1.0)\n",
    "# gpc = GaussianProcessClassifier(kernel=kernel,\n",
    "#         random_state=0).fit(X_train, y_train)\n",
    "# gpc.score(X_valid, y_valid)\n",
    "# gpc.predict_proba(X[:2,:])\n",
    "# error - unable allocate enough memory"
   ]
  },
  {
   "cell_type": "code",
   "execution_count": 9,
   "metadata": {},
   "outputs": [
    {
     "name": "stdout",
     "output_type": "stream",
     "text": [
      "[LibSVM]"
     ]
    },
    {
     "data": {
      "text/plain": [
       "0.40832474609638386"
      ]
     },
     "execution_count": 9,
     "metadata": {},
     "output_type": "execute_result"
    }
   ],
   "source": [
    "svm_clf = NuSVC(kernel='rbf', random_state=42, verbose=3)\n",
    "svm_clf.fit(X_train, y_train)\n",
    "y_test_pred_svm = svm_clf.predict(X_valid)\n",
    "f1_score(y_valid, y_test_pred_svm, average='macro')"
   ]
  },
  {
   "cell_type": "code",
   "execution_count": 10,
   "metadata": {},
   "outputs": [
    {
     "name": "stdout",
     "output_type": "stream",
     "text": [
      "[[277 114  64  86  46  56]\n",
      " [253 169  76  72  33  36]\n",
      " [146  72 176 135  61 108]\n",
      " [ 90  36 212 166  81 190]\n",
      " [ 68  23 131 126 111 292]\n",
      " [ 44  12  99  92 149 363]]\n",
      "              precision    recall  f1-score   support\n",
      "\n",
      "           1       0.32      0.43      0.36       643\n",
      "           2       0.40      0.26      0.32       639\n",
      "           3       0.23      0.25      0.24       698\n",
      "           4       0.25      0.21      0.23       775\n",
      "           5       0.23      0.15      0.18       751\n",
      "           6       0.35      0.48      0.40       759\n",
      "\n",
      "    accuracy                           0.30      4265\n",
      "   macro avg       0.29      0.30      0.29      4265\n",
      "weighted avg       0.29      0.30      0.29      4265\n",
      "\n",
      "F1-score: 0.28910785960747765\n",
      "cohen_kappa_score: 0.15433930974812538\n"
     ]
    }
   ],
   "source": [
    "pas_agr_classif = PassiveAggressiveClassifier(warm_start=False, random_state=1)\n",
    "pas_agr_classif.fit(X_train, y_train)\n",
    "y_pred = pas_agr_classif.predict(X_valid)\n",
    "print_results(y_valid, y_pred)"
   ]
  },
  {
   "cell_type": "code",
   "execution_count": 11,
   "metadata": {},
   "outputs": [
    {
     "name": "stdout",
     "output_type": "stream",
     "text": [
      "[[254 177  17  24  55 116]\n",
      " [170 311  41  11  43  63]\n",
      " [ 88 166 126  61 132 125]\n",
      " [ 57  62 172 112 195 177]\n",
      " [ 24  31  87 104 183 322]\n",
      " [ 14   5  36  57 128 519]]\n",
      "              precision    recall  f1-score   support\n",
      "\n",
      "           1       0.42      0.40      0.41       643\n",
      "           2       0.41      0.49      0.45       639\n",
      "           3       0.26      0.18      0.21       698\n",
      "           4       0.30      0.14      0.20       775\n",
      "           5       0.25      0.24      0.25       751\n",
      "           6       0.39      0.68      0.50       759\n",
      "\n",
      "    accuracy                           0.35      4265\n",
      "   macro avg       0.34      0.36      0.33      4265\n",
      "weighted avg       0.34      0.35      0.33      4265\n",
      "\n",
      "F1-score: 0.33473332899562624\n",
      "cohen_kappa_score: 0.22264790633526055\n"
     ]
    }
   ],
   "source": [
    "bern_cl = BernoulliNB()\n",
    "bern_cl.fit(X_train, y_train)\n",
    "y_pred = bern_cl.predict(X_valid)\n",
    "print_results(y_valid, y_pred)"
   ]
  },
  {
   "cell_type": "code",
   "execution_count": 12,
   "metadata": {},
   "outputs": [
    {
     "name": "stdout",
     "output_type": "stream",
     "text": [
      "[[190  43  24  39  45 302]\n",
      " [182 105  33  52  47 220]\n",
      " [ 74  35  62  92  58 377]\n",
      " [ 41  14  46 101  67 506]\n",
      " [ 12   9  19  55  53 603]\n",
      " [  5   2   8  20  20 704]]\n",
      "              precision    recall  f1-score   support\n",
      "\n",
      "           1       0.38      0.30      0.33       643\n",
      "           2       0.50      0.16      0.25       639\n",
      "           3       0.32      0.09      0.14       698\n",
      "           4       0.28      0.13      0.18       775\n",
      "           5       0.18      0.07      0.10       751\n",
      "           6       0.26      0.93      0.41       759\n",
      "\n",
      "    accuracy                           0.28      4265\n",
      "   macro avg       0.32      0.28      0.23      4265\n",
      "weighted avg       0.31      0.28      0.23      4265\n",
      "\n",
      "F1-score: 0.23402687253521726\n",
      "cohen_kappa_score: 0.13536582269411057\n"
     ]
    }
   ],
   "source": [
    "bern_cl_multi = GaussianNB()\n",
    "bern_cl_multi.fit(X_train, y_train)\n",
    "y_pred = bern_cl_multi.predict(X_valid)\n",
    "print_results(y_valid, y_pred)"
   ]
  },
  {
   "cell_type": "code",
   "execution_count": 13,
   "metadata": {},
   "outputs": [
    {
     "name": "stdout",
     "output_type": "stream",
     "text": [
      "[[178  44  29  34  64 294]\n",
      " [147 129  38  49  61 215]\n",
      " [ 56  52  57  71  84 378]\n",
      " [ 26  19  41  94  84 511]\n",
      " [ 13  14  15  40  58 611]\n",
      " [  5   3   7  15  26 703]]\n",
      "              precision    recall  f1-score   support\n",
      "\n",
      "           1       0.42      0.28      0.33       643\n",
      "           2       0.49      0.20      0.29       639\n",
      "           3       0.30      0.08      0.13       698\n",
      "           4       0.31      0.12      0.17       775\n",
      "           5       0.15      0.08      0.10       751\n",
      "           6       0.26      0.93      0.41       759\n",
      "\n",
      "    accuracy                           0.29      4265\n",
      "   macro avg       0.32      0.28      0.24      4265\n",
      "weighted avg       0.32      0.29      0.24      4265\n",
      "\n",
      "F1-score: 0.23851967585673542\n",
      "cohen_kappa_score: 0.13641269177576576\n"
     ]
    }
   ],
   "source": [
    "quad_cl = QuadraticDiscriminantAnalysis()\n",
    "quad_cl.fit(X_train, y_train)\n",
    "y_pred = quad_cl.predict(X_valid)\n",
    "print_results(y_valid, y_pred)"
   ]
  }
 ],
 "metadata": {
  "interpreter": {
   "hash": "e37d4d0ca2b741f3200f91a57818feaa9a3fc1d1154b9f08d6aabe14a41e5dd1"
  },
  "kernelspec": {
   "display_name": "Python 3.8.10 64-bit",
   "language": "python",
   "name": "python3"
  },
  "language_info": {
   "codemirror_mode": {
    "name": "ipython",
    "version": 3
   },
   "file_extension": ".py",
   "mimetype": "text/x-python",
   "name": "python",
   "nbconvert_exporter": "python",
   "pygments_lexer": "ipython3",
   "version": "3.8.10"
  },
  "orig_nbformat": 4
 },
 "nbformat": 4,
 "nbformat_minor": 2
}
