{
 "cells": [
  {
   "cell_type": "code",
   "execution_count": 1,
   "metadata": {},
   "outputs": [],
   "source": [
    "import numpy as np\n",
    "import pandas as pd\n",
    "import matplotlib.pyplot as plt\n",
    "import seaborn as sns\n",
    "sns.set(rc={'figure.figsize':(10, 8)})\n",
    "pd.set_option('display.max_columns', 1500)\n",
    "from sklearn.model_selection import train_test_split\n",
    "from sklearn.preprocessing import StandardScaler\n",
    "import warnings\n",
    "warnings.filterwarnings('ignore')\n",
    "from sklearn.model_selection import train_test_split, GridSearchCV\n",
    "from sklearn.metrics import confusion_matrix, f1_score, roc_auc_score, classification_report, cohen_kappa_score\n",
    "from sklearn.neighbors import KNeighborsClassifier\n",
    "from sklearn.tree import DecisionTreeClassifier\n",
    "from sklearn.ensemble import AdaBoostClassifier, GradientBoostingClassifier\n",
    "from sklearn.linear_model import LogisticRegression\n",
    "from sklearn.ensemble import RandomForestClassifier\n"
   ]
  },
  {
   "cell_type": "code",
   "execution_count": 2,
   "metadata": {},
   "outputs": [],
   "source": [
    "def print_results(y_true, y_pred):\n",
    "    print(confusion_matrix(y_true, y_pred))\n",
    "    print(classification_report(y_true, y_pred))\n",
    "    print('F1-score:', f1_score(y_true, y_pred, average='macro'))\n",
    "    print('cohen_kappa_score:', cohen_kappa_score(y_true, y_pred))\n",
    "    # print('roc_auc-score:', roc_auc_score(y_true, y_pred, average=\"weighted\", multi_class=\"ovo\"))\n",
    "def plot_validation_curve(model_grid, param_name, params=None):\n",
    "    results_df = pd.DataFrame(model_grid.cv_results_)\n",
    "    \n",
    "    if params == None:\n",
    "        plt.plot(results_df['param_'+param_name], results_df['mean_test_score'])\n",
    "    else:\n",
    "        plt.plot(params, results_df['mean_test_score'])\n",
    "\n",
    "    plt.xlabel(param_name)\n",
    "    plt.ylabel('Test F1 score')\n",
    "    plt.title('Validation curve')\n",
    "    plt.show()"
   ]
  },
  {
   "cell_type": "code",
   "execution_count": 3,
   "metadata": {},
   "outputs": [],
   "source": [
    "df = pd.read_csv('age_final_numeric_corr_2.csv')\n",
    "labels = df['target']\n",
    "df_mod = df.drop('target', axis=1)\n",
    "scaler = StandardScaler()\n",
    "X = scaler.fit_transform(df_mod)\n",
    "X_train, X_valid, y_train, y_valid = train_test_split(X, labels, test_size=0.15, random_state=42, stratify = labels)"
   ]
  },
  {
   "cell_type": "markdown",
   "metadata": {},
   "source": [
    "BAGGING CLASSIFIER"
   ]
  },
  {
   "cell_type": "code",
   "execution_count": 4,
   "metadata": {},
   "outputs": [
    {
     "data": {
      "text/plain": [
       "BaggingClassifier(base_estimator=KNeighborsClassifier(), max_samples=0.5)"
      ]
     },
     "execution_count": 4,
     "metadata": {},
     "output_type": "execute_result"
    }
   ],
   "source": [
    "from sklearn.ensemble import BaggingClassifier\n",
    "from sklearn.neighbors import KNeighborsClassifier\n",
    "bagging = BaggingClassifier(KNeighborsClassifier(),\n",
    "                            max_samples=0.5, max_features=1.0, n_estimators=10)\n",
    "\n",
    "bagging.fit(X_train, y_train)"
   ]
  },
  {
   "cell_type": "code",
   "execution_count": 5,
   "metadata": {},
   "outputs": [
    {
     "name": "stdout",
     "output_type": "stream",
     "text": [
      "[[315 163  60  31  30  41]\n",
      " [185 261 106  40  28  25]\n",
      " [119 117 142 136 103  68]\n",
      " [ 68  45 135 191 179 135]\n",
      " [ 45  32  76 154 238 226]\n",
      " [ 30   9  33  78 179 442]]\n",
      "              precision    recall  f1-score   support\n",
      "\n",
      "           1       0.41      0.49      0.45       640\n",
      "           2       0.42      0.40      0.41       645\n",
      "           3       0.26      0.21      0.23       685\n",
      "           4       0.30      0.25      0.28       753\n",
      "           5       0.31      0.31      0.31       771\n",
      "           6       0.47      0.57      0.52       771\n",
      "\n",
      "    accuracy                           0.37      4265\n",
      "   macro avg       0.36      0.37      0.37      4265\n",
      "weighted avg       0.36      0.37      0.37      4265\n",
      "\n",
      "F1-score: 0.36576949887381077\n",
      "cohen_kappa_score: 0.2461372355551481\n"
     ]
    }
   ],
   "source": [
    "y_pred = bagging.predict(X_valid)\n",
    "print_results(y_valid, y_pred)"
   ]
  },
  {
   "cell_type": "code",
   "execution_count": 6,
   "metadata": {},
   "outputs": [
    {
     "data": {
      "text/plain": [
       "BaggingClassifier(base_estimator=KNeighborsClassifier(), max_samples=0.5,\n",
       "                  n_estimators=20)"
      ]
     },
     "execution_count": 6,
     "metadata": {},
     "output_type": "execute_result"
    }
   ],
   "source": [
    "bagging = BaggingClassifier(KNeighborsClassifier(),\n",
    "                            max_samples=0.5, max_features=1.0, n_estimators=20)\n",
    "\n",
    "bagging.fit(X_train, y_train)"
   ]
  },
  {
   "cell_type": "code",
   "execution_count": 7,
   "metadata": {},
   "outputs": [
    {
     "name": "stdout",
     "output_type": "stream",
     "text": [
      "[[319 171  49  37  26  38]\n",
      " [186 266  97  39  29  28]\n",
      " [121 105 147 143  98  71]\n",
      " [ 66  42 145 196 173 131]\n",
      " [ 40  29  81 153 228 240]\n",
      " [ 33  11  24  73 186 444]]\n",
      "              precision    recall  f1-score   support\n",
      "\n",
      "           1       0.42      0.50      0.45       640\n",
      "           2       0.43      0.41      0.42       645\n",
      "           3       0.27      0.21      0.24       685\n",
      "           4       0.31      0.26      0.28       753\n",
      "           5       0.31      0.30      0.30       771\n",
      "           6       0.47      0.58      0.52       771\n",
      "\n",
      "    accuracy                           0.38      4265\n",
      "   macro avg       0.37      0.38      0.37      4265\n",
      "weighted avg       0.36      0.38      0.37      4265\n",
      "\n",
      "F1-score: 0.36851769297275777\n",
      "cohen_kappa_score: 0.24920825273292757\n"
     ]
    }
   ],
   "source": [
    "y_pred = bagging.predict(X_valid)\n",
    "print_results(y_valid, y_pred)"
   ]
  },
  {
   "cell_type": "markdown",
   "metadata": {},
   "source": [
    "RANDOM FOREST | EXTRA TREES"
   ]
  },
  {
   "cell_type": "code",
   "execution_count": 8,
   "metadata": {},
   "outputs": [
    {
     "name": "stdout",
     "output_type": "stream",
     "text": [
      "[[344 171  43  39  20  23]\n",
      " [208 307  83  23  11  13]\n",
      " [109 120 215 127  75  39]\n",
      " [ 49  52 157 236 163  96]\n",
      " [ 47  36  86 194 223 185]\n",
      " [ 27  14  50  86 223 371]]\n",
      "              precision    recall  f1-score   support\n",
      "\n",
      "           1       0.44      0.54      0.48       640\n",
      "           2       0.44      0.48      0.46       645\n",
      "           3       0.34      0.31      0.33       685\n",
      "           4       0.33      0.31      0.32       753\n",
      "           5       0.31      0.29      0.30       771\n",
      "           6       0.51      0.48      0.50       771\n",
      "\n",
      "    accuracy                           0.40      4265\n",
      "   macro avg       0.40      0.40      0.40      4265\n",
      "weighted avg       0.39      0.40      0.39      4265\n",
      "\n",
      "F1-score: 0.39747483722938365\n",
      "cohen_kappa_score: 0.2772582610005734\n"
     ]
    }
   ],
   "source": [
    "from sklearn.ensemble import ExtraTreesClassifier\n",
    "rf = RandomForestClassifier(n_estimators=10, random_state=0)\n",
    "rf.fit(X_train, y_train)\n",
    "y_pred = rf.predict(X_valid)\n",
    "print_results(y_valid, y_pred)"
   ]
  },
  {
   "cell_type": "code",
   "execution_count": 9,
   "metadata": {},
   "outputs": [
    {
     "name": "stdout",
     "output_type": "stream",
     "text": [
      "Best estimator by estimators number: RandomForestClassifier(n_estimators=160, random_state=0)\n",
      "Best score by estimators number: 0.42925013623284014\n"
     ]
    },
    {
     "data": {
      "text/plain": [
       "Text(0, 0.5, 'Mean accuracy on test set')"
      ]
     },
     "execution_count": 9,
     "metadata": {},
     "output_type": "execute_result"
    },
    {
     "data": {
      "image/png": "[encoded data removed]",
      "text/plain": [
       "<Figure size 720x576 with 1 Axes>"
      ]
     },
     "metadata": {},
     "output_type": "display_data"
    }
   ],
   "source": [
    "forest_params = {'n_estimators': np.arange(60, 170, 10)}\n",
    "\n",
    "forest_grid = GridSearchCV(rf, forest_params, cv=5, scoring='f1_macro')\n",
    "forest_grid.fit(X_train, y_train)\n",
    "print('Best estimator by estimators number:', forest_grid.best_estimator_)\n",
    "print('Best score by estimators number:', forest_grid.best_score_)\n",
    "\n",
    "results_df = pd.DataFrame(forest_grid.cv_results_)\n",
    "plt.plot(results_df['param_n_estimators'], results_df['mean_test_score'])\n",
    "plt.xlabel('N estimators')\n",
    "plt.ylabel('Mean accuracy on test set')"
   ]
  },
  {
   "cell_type": "code",
   "execution_count": 10,
   "metadata": {},
   "outputs": [
    {
     "name": "stdout",
     "output_type": "stream",
     "text": [
      "[[332 173  47  40  24  24]\n",
      " [207 275  97  38  14  14]\n",
      " [109 132 193 133  69  49]\n",
      " [ 61  57 165 222 165  83]\n",
      " [ 52  37  83 202 219 178]\n",
      " [ 38  15  59 107 210 342]]\n",
      "              precision    recall  f1-score   support\n",
      "\n",
      "           1       0.42      0.52      0.46       640\n",
      "           2       0.40      0.43      0.41       645\n",
      "           3       0.30      0.28      0.29       685\n",
      "           4       0.30      0.29      0.30       753\n",
      "           5       0.31      0.28      0.30       771\n",
      "           6       0.50      0.44      0.47       771\n",
      "\n",
      "    accuracy                           0.37      4265\n",
      "   macro avg       0.37      0.37      0.37      4265\n",
      "weighted avg       0.37      0.37      0.37      4265\n",
      "\n",
      "F1-score: 0.37114769075929205\n",
      "cohen_kappa_score: 0.24557250619025706\n"
     ]
    }
   ],
   "source": [
    "et = ExtraTreesClassifier(n_estimators=10, random_state=3, n_jobs=-1)\n",
    "et.fit(X_train, y_train)\n",
    "y_pred = et.predict(X_valid)\n",
    "print_results(y_valid, y_pred)"
   ]
  },
  {
   "cell_type": "code",
   "execution_count": 11,
   "metadata": {},
   "outputs": [
    {
     "data": {
      "text/plain": [
       "GridSearchCV(cv=5,\n",
       "             estimator=ExtraTreesClassifier(n_estimators=10, n_jobs=-1,\n",
       "                                            random_state=3),\n",
       "             n_jobs=-1,\n",
       "             param_grid={'n_estimators': array([ 10,  20,  30,  40,  50,  60,  70,  80,  90, 100, 110, 120])},\n",
       "             scoring='f1_macro')"
      ]
     },
     "execution_count": 11,
     "metadata": {},
     "output_type": "execute_result"
    }
   ],
   "source": [
    "et_params={'n_estimators': np.arange(10, 121, 10)}\n",
    "\n",
    "et_grid = GridSearchCV(et, et_params, cv=5, scoring='f1_macro', n_jobs=-1)\n",
    "et_grid.fit(X_train, y_train)"
   ]
  },
  {
   "cell_type": "code",
   "execution_count": 12,
   "metadata": {},
   "outputs": [
    {
     "name": "stdout",
     "output_type": "stream",
     "text": [
      "0.41357009386393206\n"
     ]
    },
    {
     "data": {
      "image/png": "[encoded data removed]",
      "text/plain": [
       "<Figure size 720x576 with 1 Axes>"
      ]
     },
     "metadata": {},
     "output_type": "display_data"
    }
   ],
   "source": [
    "print(et_grid.best_score_)\n",
    "plot_validation_curve(et_grid, 'n_estimators')"
   ]
  },
  {
   "cell_type": "markdown",
   "metadata": {},
   "source": [
    "ADABOOST"
   ]
  },
  {
   "cell_type": "code",
   "execution_count": 13,
   "metadata": {},
   "outputs": [
    {
     "name": "stdout",
     "output_type": "stream",
     "text": [
      "[[218 287  64  23  18  30]\n",
      " [147 354 110   8   7  19]\n",
      " [ 90 104 224 121  73  73]\n",
      " [ 52  31 138 232 177 123]\n",
      " [ 32  17  72 152 255 243]\n",
      " [ 24   6  35  43 195 468]]\n",
      "              precision    recall  f1-score   support\n",
      "\n",
      "           1       0.39      0.34      0.36       640\n",
      "           2       0.44      0.55      0.49       645\n",
      "           3       0.35      0.33      0.34       685\n",
      "           4       0.40      0.31      0.35       753\n",
      "           5       0.35      0.33      0.34       771\n",
      "           6       0.49      0.61      0.54       771\n",
      "\n",
      "    accuracy                           0.41      4265\n",
      "   macro avg       0.40      0.41      0.40      4265\n",
      "weighted avg       0.40      0.41      0.40      4265\n",
      "\n",
      "F1-score: 0.4035531873067386\n",
      "cohen_kappa_score: 0.29189211214830324\n"
     ]
    }
   ],
   "source": [
    "ab = AdaBoostClassifier(random_state=17)\n",
    "ab.fit(X_train, y_train)\n",
    "y_pred = ab.predict(X_valid)\n",
    "print_results(y_valid, y_pred)"
   ]
  },
  {
   "cell_type": "code",
   "execution_count": 14,
   "metadata": {},
   "outputs": [
    {
     "name": "stdout",
     "output_type": "stream",
     "text": [
      "0.4078019774283385\n",
      "{'n_estimators': 70}\n"
     ]
    }
   ],
   "source": [
    "ab_n_estimators = {'n_estimators': np.arange(50, 150, 10)}\n",
    "ab_grid = GridSearchCV(ab, ab_n_estimators, cv=5, scoring='f1_macro', n_jobs=-1)\n",
    "ab_grid.fit(X_train, y_train)\n",
    "\n",
    "print(ab_grid.best_score_)\n",
    "print(ab_grid.best_params_)"
   ]
  },
  {
   "cell_type": "code",
   "execution_count": 15,
   "metadata": {},
   "outputs": [
    {
     "data": {
      "image/png": "[encoded data removed]",
      "text/plain": [
       "<Figure size 720x576 with 1 Axes>"
      ]
     },
     "metadata": {},
     "output_type": "display_data"
    }
   ],
   "source": [
    "plot_validation_curve(ab_grid, 'n_estimators')"
   ]
  },
  {
   "cell_type": "code",
   "execution_count": 16,
   "metadata": {},
   "outputs": [
    {
     "name": "stdout",
     "output_type": "stream",
     "text": [
      "0.41564248844626395\n",
      "{'learning_rate': 0.5}\n"
     ]
    }
   ],
   "source": [
    "ab_l_rate = {'learning_rate': [0.001, 0.01, 0.1, 0.5, 0.75, 1, 2, 10]}\n",
    "ab_grid = GridSearchCV(ab, ab_l_rate, cv=5, scoring='f1_macro', n_jobs=-1)\n",
    "ab_grid.fit(X_train, y_train)\n",
    "\n",
    "print(ab_grid.best_score_)\n",
    "print(ab_grid.best_params_)"
   ]
  },
  {
   "cell_type": "code",
   "execution_count": 17,
   "metadata": {},
   "outputs": [
    {
     "name": "stdout",
     "output_type": "stream",
     "text": [
      "0.42198342374231307\n",
      "{'learning_rate': 0.5, 'n_estimators': 80}\n"
     ]
    }
   ],
   "source": [
    "ab_params = {'n_estimators': np.arange(20, 201, 20), \n",
    "             'learning_rate': [0.001, 0.01, 0.1, 0.5, 0.75, 1, 2, 5, 10]}\n",
    "ab_grid = GridSearchCV(ab, ab_params, cv=5, scoring='f1_macro', n_jobs=-1)\n",
    "ab_grid.fit(X_train, y_train)\n",
    "\n",
    "print(ab_grid.best_score_)\n",
    "print(ab_grid.best_params_)"
   ]
  },
  {
   "cell_type": "code",
   "execution_count": 18,
   "metadata": {},
   "outputs": [
    {
     "name": "stdout",
     "output_type": "stream",
     "text": [
      "[[240 259  67  25  12  37]\n",
      " [150 337 116  15   2  25]\n",
      " [ 98  82 219 142  69  75]\n",
      " [ 53  17 133 260 155 135]\n",
      " [ 33  13  65 170 222 268]\n",
      " [ 25   2  26  50 160 508]]\n",
      "              precision    recall  f1-score   support\n",
      "\n",
      "           1       0.40      0.38      0.39       640\n",
      "           2       0.47      0.52      0.50       645\n",
      "           3       0.35      0.32      0.33       685\n",
      "           4       0.39      0.35      0.37       753\n",
      "           5       0.36      0.29      0.32       771\n",
      "           6       0.48      0.66      0.56       771\n",
      "\n",
      "    accuracy                           0.42      4265\n",
      "   macro avg       0.41      0.42      0.41      4265\n",
      "weighted avg       0.41      0.42      0.41      4265\n",
      "\n",
      "F1-score: 0.4106928213382739\n",
      "cohen_kappa_score: 0.30145212036979585\n"
     ]
    }
   ],
   "source": [
    "ab_best = ab_grid.best_estimator_\n",
    "y_pred = ab_best.predict(X_valid)\n",
    "print_results(y_valid, y_pred)"
   ]
  },
  {
   "cell_type": "markdown",
   "metadata": {},
   "source": [
    "GRADIENT BOOSTING"
   ]
  },
  {
   "cell_type": "code",
   "execution_count": 4,
   "metadata": {},
   "outputs": [
    {
     "name": "stdout",
     "output_type": "stream",
     "text": [
      "[[368 154  49  20  19  30]\n",
      " [187 337  81  15   9  16]\n",
      " [ 97 105 198 147  78  60]\n",
      " [ 62  16 125 252 180 118]\n",
      " [ 42  21  53 155 244 256]\n",
      " [ 28   4  20  37 175 507]]\n",
      "              precision    recall  f1-score   support\n",
      "\n",
      "           1       0.47      0.57      0.52       640\n",
      "           2       0.53      0.52      0.53       645\n",
      "           3       0.38      0.29      0.33       685\n",
      "           4       0.40      0.33      0.37       753\n",
      "           5       0.35      0.32      0.33       771\n",
      "           6       0.51      0.66      0.58       771\n",
      "\n",
      "    accuracy                           0.45      4265\n",
      "   macro avg       0.44      0.45      0.44      4265\n",
      "weighted avg       0.44      0.45      0.44      4265\n",
      "\n",
      "F1-score: 0.440415798021045\n",
      "cohen_kappa_score: 0.33552060644406256\n"
     ]
    }
   ],
   "source": [
    "gb = GradientBoostingClassifier(random_state=17)\n",
    "gb.fit(X_train, y_train)\n",
    "y_pred = gb.predict(X_valid)\n",
    "print_results(y_valid, y_pred)"
   ]
  },
  {
   "cell_type": "code",
   "execution_count": 15,
   "metadata": {},
   "outputs": [],
   "source": [
    "gb_n_estimators = {'n_estimators': np.arange(20, 201, 20)}\n",
    "gb_grid = GridSearchCV(gb, gb_n_estimators, cv=5, scoring='f1_macro', n_jobs=-1)\n",
    "gb_grid.fit(X_train, y_train)\n",
    "\n",
    "print(gb_grid.best_score_)\n",
    "print(gb_grid.best_params_)\n",
    "\n",
    "gb_best = gb_grid.best_estimator_\n",
    "y_pred = gb_best.predict(X_valid)\n",
    "print_results(y_valid, y_pred)"
   ]
  },
  {
   "cell_type": "code",
   "execution_count": 7,
   "metadata": {},
   "outputs": [
    {
     "name": "stdout",
     "output_type": "stream",
     "text": [
      "0.4473416458399965\n",
      "{'max_depth': 4}\n"
     ]
    }
   ],
   "source": [
    "gb_max_depth = {'max_depth': np.arange(3, 6)}\n",
    "gb_grid = GridSearchCV(gb, gb_max_depth, cv=3, scoring='f1_macro', n_jobs=-1)\n",
    "gb_grid.fit(X_train, y_train)\n",
    "\n",
    "print(gb_grid.best_score_)\n",
    "print(gb_grid.best_params_)\n",
    "# before range(1, 5): 4 - best"
   ]
  },
  {
   "cell_type": "code",
   "execution_count": 8,
   "metadata": {},
   "outputs": [
    {
     "data": {
      "image/png": "[encoded data removed]",
      "text/plain": [
       "<Figure size 720x576 with 1 Axes>"
      ]
     },
     "metadata": {},
     "output_type": "display_data"
    }
   ],
   "source": [
    "plot_validation_curve(gb_grid, 'max_depth')"
   ]
  },
  {
   "cell_type": "code",
   "execution_count": 8,
   "metadata": {},
   "outputs": [
    {
     "name": "stdout",
     "output_type": "stream",
     "text": [
      "[[371 158  48  23  17  23]\n",
      " [185 344  73  21   8  14]\n",
      " [ 90 104 217 143  77  54]\n",
      " [ 57  17 135 258 173 113]\n",
      " [ 40  24  56 155 247 249]\n",
      " [ 28   4  19  45 161 514]]\n",
      "              precision    recall  f1-score   support\n",
      "\n",
      "           1       0.48      0.58      0.53       640\n",
      "           2       0.53      0.53      0.53       645\n",
      "           3       0.40      0.32      0.35       685\n",
      "           4       0.40      0.34      0.37       753\n",
      "           5       0.36      0.32      0.34       771\n",
      "           6       0.53      0.67      0.59       771\n",
      "\n",
      "    accuracy                           0.46      4265\n",
      "   macro avg       0.45      0.46      0.45      4265\n",
      "weighted avg       0.45      0.46      0.45      4265\n",
      "\n",
      "F1-score: 0.4515091640247824\n",
      "cohen_kappa_score: 0.3482949152038721\n"
     ]
    }
   ],
   "source": [
    "gb_best = gb_grid.best_estimator_\n",
    "y_pred = gb_best.predict(X_valid)\n",
    "print_results(y_valid, y_pred)"
   ]
  },
  {
   "cell_type": "markdown",
   "metadata": {},
   "source": [
    "XGBOOST"
   ]
  },
  {
   "cell_type": "code",
   "execution_count": 9,
   "metadata": {},
   "outputs": [
    {
     "name": "stdout",
     "output_type": "stream",
     "text": [
      "[20:14:09] WARNING: C:/Users/Administrator/workspace/xgboost-win64_release_1.5.1/src/learner.cc:1115: Starting in XGBoost 1.3.0, the default evaluation metric used with the objective 'multi:softprob' was changed from 'merror' to 'mlogloss'. Explicitly set eval_metric if you'd like to restore the old behavior.\n",
      "[[366 164  46  20  19  25]\n",
      " [178 352  74  15   9  17]\n",
      " [ 89 109 221 139  74  53]\n",
      " [ 47  33 135 236 188 114]\n",
      " [ 45  25  68 167 210 256]\n",
      " [ 21  10  19  53 147 521]]\n",
      "              precision    recall  f1-score   support\n",
      "\n",
      "           1       0.49      0.57      0.53       640\n",
      "           2       0.51      0.55      0.53       645\n",
      "           3       0.39      0.32      0.35       685\n",
      "           4       0.37      0.31      0.34       753\n",
      "           5       0.32      0.27      0.30       771\n",
      "           6       0.53      0.68      0.59       771\n",
      "\n",
      "    accuracy                           0.45      4265\n",
      "   macro avg       0.44      0.45      0.44      4265\n",
      "weighted avg       0.43      0.45      0.44      4265\n",
      "\n",
      "F1-score: 0.43983314381279626\n",
      "cohen_kappa_score: 0.3357545188685175\n"
     ]
    }
   ],
   "source": [
    "import xgboost as xgb\n",
    "xgbc = xgb.XGBClassifier()\n",
    "# parallel tree boosting\n",
    "xgbc.fit(X_train, y_train)\n",
    "y_pred = xgbc.predict(X_valid)\n",
    "print_results(y_valid, y_pred)"
   ]
  },
  {
   "cell_type": "code",
   "execution_count": 10,
   "metadata": {},
   "outputs": [
    {
     "name": "stdout",
     "output_type": "stream",
     "text": [
      "[20:24:01] WARNING: C:/Users/Administrator/workspace/xgboost-win64_release_1.5.1/src/learner.cc:1115: Starting in XGBoost 1.3.0, the default evaluation metric used with the objective 'multi:softprob' was changed from 'merror' to 'mlogloss'. Explicitly set eval_metric if you'd like to restore the old behavior.\n",
      "0.4466711704085139\n",
      "{'max_depth': 4, 'n_estimators': 100}\n"
     ]
    }
   ],
   "source": [
    "xgb_params = {'n_estimators': [20, 50, 100, 200],\n",
    "             'max_depth': [2, 4, 6]}\n",
    "xgb_grid = GridSearchCV(xgbc, xgb_params, cv=5, scoring='f1_macro', n_jobs=-1)\n",
    "xgb_grid.fit(X_train, y_train)\n",
    "\n",
    "print(xgb_grid.best_score_)\n",
    "print(xgb_grid.best_params_)"
   ]
  },
  {
   "cell_type": "code",
   "execution_count": 11,
   "metadata": {},
   "outputs": [
    {
     "name": "stdout",
     "output_type": "stream",
     "text": [
      "[[381 155  35  23  17  29]\n",
      " [186 357  58  18  11  15]\n",
      " [ 96 106 207 143  72  61]\n",
      " [ 55  30 132 248 170 118]\n",
      " [ 42  24  61 148 242 254]\n",
      " [ 28   5  15  49 155 519]]\n",
      "              precision    recall  f1-score   support\n",
      "\n",
      "           1       0.48      0.60      0.53       640\n",
      "           2       0.53      0.55      0.54       645\n",
      "           3       0.41      0.30      0.35       685\n",
      "           4       0.39      0.33      0.36       753\n",
      "           5       0.36      0.31      0.34       771\n",
      "           6       0.52      0.67      0.59       771\n",
      "\n",
      "    accuracy                           0.46      4265\n",
      "   macro avg       0.45      0.46      0.45      4265\n",
      "weighted avg       0.45      0.46      0.45      4265\n",
      "\n",
      "F1-score: 0.4506072640417759\n",
      "cohen_kappa_score: 0.34921610120531255\n"
     ]
    }
   ],
   "source": [
    "xgb_best = xgb_grid.best_estimator_\n",
    "y_pred = xgb_best.predict(X_valid)\n",
    "print_results(y_valid, y_pred)"
   ]
  },
  {
   "cell_type": "markdown",
   "metadata": {},
   "source": [
    "STACKING"
   ]
  },
  {
   "cell_type": "code",
   "execution_count": 5,
   "metadata": {},
   "outputs": [
    {
     "data": {
      "text/plain": [
       "StackingClassifier(estimators=[('knn', KNeighborsClassifier()),\n",
       "                               ('tree',\n",
       "                                DecisionTreeClassifier(max_depth=7,\n",
       "                                                       random_state=42)),\n",
       "                               ('log_reg', LogisticRegression())],\n",
       "                   final_estimator=RandomForestClassifier(n_estimators=10))"
      ]
     },
     "execution_count": 5,
     "metadata": {},
     "output_type": "execute_result"
    }
   ],
   "source": [
    "from sklearn.ensemble import StackingClassifier\n",
    "estimators = [('knn', KNeighborsClassifier()), \n",
    "              ('tree', DecisionTreeClassifier(max_depth=7, random_state=42)),\n",
    "              ('log_reg', LogisticRegression())]\n",
    "stack = StackingClassifier(estimators=estimators,\n",
    "                           final_estimator=RandomForestClassifier(n_estimators=10))\n",
    "stack.fit(X_train, y_train)"
   ]
  },
  {
   "cell_type": "code",
   "execution_count": 6,
   "metadata": {},
   "outputs": [
    {
     "name": "stdout",
     "output_type": "stream",
     "text": [
      "[[348 170  47  36  20  19]\n",
      " [209 306  84  17  17  12]\n",
      " [ 98 135 187 145  68  52]\n",
      " [ 54  53 167 225 158  96]\n",
      " [ 38  33 102 171 214 213]\n",
      " [ 27  14  54 104 199 373]]\n",
      "              precision    recall  f1-score   support\n",
      "\n",
      "           1       0.45      0.54      0.49       640\n",
      "           2       0.43      0.47      0.45       645\n",
      "           3       0.29      0.27      0.28       685\n",
      "           4       0.32      0.30      0.31       753\n",
      "           5       0.32      0.28      0.30       771\n",
      "           6       0.49      0.48      0.49       771\n",
      "\n",
      "    accuracy                           0.39      4265\n",
      "   macro avg       0.38      0.39      0.39      4265\n",
      "weighted avg       0.38      0.39      0.38      4265\n",
      "\n",
      "F1-score: 0.386198629217463\n",
      "cohen_kappa_score: 0.2651877434768328\n"
     ]
    }
   ],
   "source": [
    "y_pred = stack.predict(X_valid)\n",
    "print_results(y_valid, y_pred)"
   ]
  }
 ],
 "metadata": {
  "interpreter": {
   "hash": "e37d4d0ca2b741f3200f91a57818feaa9a3fc1d1154b9f08d6aabe14a41e5dd1"
  },
  "kernelspec": {
   "display_name": "Python 3.8.10 64-bit",
   "language": "python",
   "name": "python3"
  },
  "language_info": {
   "codemirror_mode": {
    "name": "ipython",
    "version": 3
   },
   "file_extension": ".py",
   "mimetype": "text/x-python",
   "name": "python",
   "nbconvert_exporter": "python",
   "pygments_lexer": "ipython3",
   "version": "3.8.10"
  },
  "orig_nbformat": 4
 },
 "nbformat": 4,
 "nbformat_minor": 2
}
