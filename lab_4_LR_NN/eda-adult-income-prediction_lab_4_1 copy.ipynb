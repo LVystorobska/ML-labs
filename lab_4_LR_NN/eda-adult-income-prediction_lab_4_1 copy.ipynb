{
 "cells": [
  {
   "cell_type": "code",
   "execution_count": 1,
   "metadata": {},
   "outputs": [],
   "source": [
    "import numpy as np\n",
    "import pandas as pd\n",
    "import matplotlib.pyplot as plt\n",
    "from sklearn.metrics import confusion_matrix, plot_confusion_matrix, precision_score, recall_score, f1_score, roc_auc_score\n",
    "from sklearn.model_selection import GridSearchCV\n",
    "from imblearn.over_sampling import RandomOverSampler, ADASYN\n",
    "import seaborn as sns\n",
    "import warnings\n",
    "warnings.filterwarnings('ignore')\n",
    "sns.set(rc={'figure.figsize':(10, 10)})"
   ]
  },
  {
   "cell_type": "code",
   "execution_count": 2,
   "metadata": {},
   "outputs": [
    {
     "name": "stdout",
     "output_type": "stream",
     "text": [
      "<class 'pandas.core.frame.DataFrame'>\n",
      "RangeIndex: 46033 entries, 0 to 46032\n",
      "Data columns (total 29 columns):\n",
      " #   Column                        Non-Null Count  Dtype\n",
      "---  ------                        --------------  -----\n",
      " 0   age                           46033 non-null  int64\n",
      " 1   educational-num               46033 non-null  int64\n",
      " 2   gender                        46033 non-null  int64\n",
      " 3   capital-gain                  46033 non-null  int64\n",
      " 4   capital-loss                  46033 non-null  int64\n",
      " 5   hours-per-week                46033 non-null  int64\n",
      " 6   workclass_Federal-gov         46033 non-null  int64\n",
      " 7   workclass_Local-gov           46033 non-null  int64\n",
      " 8   workclass_Private             46033 non-null  int64\n",
      " 9   workclass_Self-emp-inc        46033 non-null  int64\n",
      " 10  workclass_Self-emp-not-inc    46033 non-null  int64\n",
      " 11  workclass_State-gov           46033 non-null  int64\n",
      " 12  occupation_Adm-clerical       46033 non-null  int64\n",
      " 13  occupation_Craft-repair       46033 non-null  int64\n",
      " 14  occupation_Exec-managerial    46033 non-null  int64\n",
      " 15  occupation_Farming-fishing    46033 non-null  int64\n",
      " 16  occupation_Handlers-cleaners  46033 non-null  int64\n",
      " 17  occupation_Machine-op-inspct  46033 non-null  int64\n",
      " 18  occupation_Other-service      46033 non-null  int64\n",
      " 19  occupation_Priv-house-serv    46033 non-null  int64\n",
      " 20  occupation_Prof-specialty     46033 non-null  int64\n",
      " 21  occupation_Protective-serv    46033 non-null  int64\n",
      " 22  occupation_Sales              46033 non-null  int64\n",
      " 23  occupation_Tech-support       46033 non-null  int64\n",
      " 24  occupation_Transport-moving   46033 non-null  int64\n",
      " 25  is_married                    46033 non-null  int64\n",
      " 26  has_children                  46033 non-null  int64\n",
      " 27  is_white                      46033 non-null  int64\n",
      " 28  from_US                       46033 non-null  int64\n",
      "dtypes: int64(29)\n",
      "memory usage: 10.2 MB\n"
     ]
    }
   ],
   "source": [
    "df_main = pd.read_csv('../full_adult_clean.csv')\n",
    "labels = pd.read_csv('../adult_labels.csv')\n",
    "# df_main.head()\n",
    "df_main.info()\n",
    "# read clean data + labels previously saved in KNN lab#"
   ]
  },
  {
   "cell_type": "code",
   "execution_count": 3,
   "metadata": {},
   "outputs": [
    {
     "data": {
      "text/plain": [
       "is_income_over_50k\n",
       "0                     0.751874\n",
       "1                     0.248126\n",
       "dtype: float64"
      ]
     },
     "execution_count": 3,
     "metadata": {},
     "output_type": "execute_result"
    }
   ],
   "source": [
    "def print_results(y_true, y_pred):\n",
    "    print(confusion_matrix(y_true, y_pred))\n",
    "    print('F1-score:', f1_score(y_true, y_pred))\n",
    "    print('precision-score:', precision_score(y_true, y_pred))\n",
    "    print('recall-score:', recall_score(y_true, y_pred))\n",
    "    print('roc_auc-score:', roc_auc_score(y_true, y_pred))\n",
    "labels.value_counts(normalize=True)"
   ]
  },
  {
   "cell_type": "code",
   "execution_count": 15,
   "metadata": {},
   "outputs": [
    {
     "data": {
      "image/png": "[encoded data removed]",
      "text/plain": [
       "<Figure size 720x720 with 1 Axes>"
      ]
     },
     "metadata": {},
     "output_type": "display_data"
    }
   ],
   "source": [
    "labels.value_counts(normalize=True).plot(kind='barh')\n",
    "plt.show()\n",
    "# not balanced data"
   ]
  },
  {
   "cell_type": "code",
   "execution_count": 4,
   "metadata": {},
   "outputs": [],
   "source": [
    "from sklearn.model_selection import train_test_split\n",
    "from sklearn.preprocessing import StandardScaler\n",
    "scaler = StandardScaler()\n",
    "data = scaler.fit_transform(df_main)\n",
    "X_train, X_valid, y_train, y_valid = train_test_split(data, labels, \n",
    "                                             test_size=0.3, random_state=2021) "
   ]
  },
  {
   "cell_type": "code",
   "execution_count": 5,
   "metadata": {},
   "outputs": [
    {
     "name": "stdout",
     "output_type": "stream",
     "text": [
      "[[ 0.34040339  0.69131424  0.09347763  2.42325338  0.2670959   0.32626087\n",
      "   0.17191986  0.10086974  0.24210457  0.1414349   0.00726381  0.04714145\n",
      "  -0.16397484 -0.146635    0.1018261  -0.27380811 -0.22785756 -0.19879062\n",
      "  -0.39878958 -0.19344066  0.02474139 -0.0099785  -0.07102648  0.02184806\n",
      "  -0.14151841  1.12531588 -0.38254131  0.06489517  0.09079613]] [-1.84801109]\n"
     ]
    }
   ],
   "source": [
    "from sklearn.linear_model import LogisticRegression\n",
    "log_reg = LogisticRegression()\n",
    "log_reg.fit(X_train, y_train)\n",
    "w = log_reg.coef_\n",
    "bb = log_reg.intercept_\n",
    "print(w, bb)\n",
    "# default params LR"
   ]
  },
  {
   "cell_type": "code",
   "execution_count": 18,
   "metadata": {},
   "outputs": [
    {
     "name": "stdout",
     "output_type": "stream",
     "text": [
      "[[9641  684]\n",
      " [1386 2099]]\n",
      "F1-score: 0.6697511167836631\n",
      "precision-score: 0.7542220625224578\n",
      "recall-score: 0.6022955523672884\n",
      "roc_auc-score: 0.7680242895008355\n"
     ]
    }
   ],
   "source": [
    "y_pred = log_reg.predict(X_valid)\n",
    "print_results(y_valid, y_pred)"
   ]
  },
  {
   "cell_type": "code",
   "execution_count": 19,
   "metadata": {},
   "outputs": [
    {
     "data": {
      "image/png": "[encoded data removed]",
      "text/plain": [
       "<Figure size 720x720 with 2 Axes>"
      ]
     },
     "metadata": {},
     "output_type": "display_data"
    }
   ],
   "source": [
    "plot_confusion_matrix(log_reg, X_valid, y_valid, values_format='5g')\n",
    "plt.show()"
   ]
  },
  {
   "cell_type": "code",
   "execution_count": 20,
   "metadata": {},
   "outputs": [
    {
     "data": {
      "text/plain": [
       "GridSearchCV(cv=5, estimator=LogisticRegression(solver='liblinear'),\n",
       "             param_grid={'C': array([1.00000000e-03, 4.64158883e-03, 2.15443469e-02, 1.00000000e-01,\n",
       "       4.64158883e-01, 2.15443469e+00, 1.00000000e+01, 4.64158883e+01,\n",
       "       2.15443469e+02, 1.00000000e+03])},\n",
       "             scoring='f1')"
      ]
     },
     "execution_count": 20,
     "metadata": {},
     "output_type": "execute_result"
    }
   ],
   "source": [
    "log_reg = LogisticRegression(solver='liblinear')\n",
    "C_values = {'C': np.logspace(-3, 3, 10)}\n",
    "logreg_grid = GridSearchCV(log_reg, C_values, cv=5, scoring='f1')\n",
    "logreg_grid.fit(X_train, y_train)\n",
    "# inverse reularization strength search"
   ]
  },
  {
   "cell_type": "code",
   "execution_count": 21,
   "metadata": {},
   "outputs": [
    {
     "name": "stdout",
     "output_type": "stream",
     "text": [
      "{'C': 0.46415888336127775}\n",
      "0.6514681120886218\n"
     ]
    }
   ],
   "source": [
    "print(logreg_grid.best_params_)\n",
    "print(logreg_grid.best_score_)"
   ]
  },
  {
   "cell_type": "code",
   "execution_count": 22,
   "metadata": {},
   "outputs": [
    {
     "data": {
      "image/png": "[encoded data removed]",
      "text/plain": [
       "<Figure size 720x720 with 1 Axes>"
      ]
     },
     "metadata": {},
     "output_type": "display_data"
    }
   ],
   "source": [
    "results_df = pd.DataFrame(logreg_grid.cv_results_)\n",
    "plt.plot(results_df['param_C'], results_df['mean_test_score'])\n",
    "\n",
    "plt.xlabel('C')\n",
    "plt.ylabel('Test accuracy')\n",
    "plt.title('Validation curve')\n",
    "plt.show()"
   ]
  },
  {
   "cell_type": "code",
   "execution_count": 23,
   "metadata": {},
   "outputs": [
    {
     "name": "stdout",
     "output_type": "stream",
     "text": [
      "{'C': 0.46415888336127775}\n",
      "0.6516020413965027\n"
     ]
    }
   ],
   "source": [
    "log_reg = LogisticRegression(solver='liblinear', penalty='l1')\n",
    "\n",
    "C_values = {'C': np.logspace(-3, 3, 10)}\n",
    "logreg_grid = GridSearchCV(log_reg, C_values, cv=5, scoring='f1')\n",
    "logreg_grid.fit(X_train, y_train)\n",
    "\n",
    "\n",
    "print(logreg_grid.best_params_)\n",
    "print(logreg_grid.best_score_)"
   ]
  },
  {
   "cell_type": "code",
   "execution_count": 24,
   "metadata": {},
   "outputs": [
    {
     "name": "stdout",
     "output_type": "stream",
     "text": [
      "{'C': 1.2915496650148828}\n",
      "0.6514186512626161\n"
     ]
    }
   ],
   "source": [
    "log_reg = LogisticRegression(solver='saga', penalty='elasticnet', l1_ratio=0.5)\n",
    "#  'saga' fast convergence is only guaranteed on features with approximately the same scale\n",
    "C_values = {'C': np.logspace(-3, 1, 10)}\n",
    "logreg_grid = GridSearchCV(log_reg, C_values, cv=5, scoring='f1')\n",
    "logreg_grid.fit(X_train, y_train)\n",
    "\n",
    "print(logreg_grid.best_params_)\n",
    "print(logreg_grid.best_score_)"
   ]
  },
  {
   "cell_type": "code",
   "execution_count": 25,
   "metadata": {},
   "outputs": [
    {
     "data": {
      "text/plain": [
       "0.6699633115329398"
      ]
     },
     "execution_count": 25,
     "metadata": {},
     "output_type": "execute_result"
    }
   ],
   "source": [
    "y_pred = logreg_grid.best_estimator_.predict(X_valid)\n",
    "f1_score(y_valid, y_pred)"
   ]
  },
  {
   "cell_type": "code",
   "execution_count": 46,
   "metadata": {},
   "outputs": [
    {
     "name": "stdout",
     "output_type": "stream",
     "text": [
      "is_income_over_50k\n",
      "0                     0.5\n",
      "1                     0.5\n",
      "dtype: float64\n",
      "[[8224 2101]\n",
      " [ 555 2930]]\n",
      "F1-score: 0.6881164866134335\n",
      "precision-score: 0.5823891870403498\n",
      "recall-score: 0.8407460545193687\n",
      "roc_auc-score: 0.818629685855326\n"
     ]
    }
   ],
   "source": [
    "ros = RandomOverSampler()\n",
    "X_ros, y_ros = ros.fit_resample(X_train, y_train)\n",
    "print(y_ros.value_counts(normalize=True))\n",
    "\n",
    "logreg_ros = LogisticRegression(solver='liblinear')\n",
    "logreg_ros.fit(X_ros, y_ros)\n",
    "y_pred = logreg_ros.predict(X_valid)\n",
    "\n",
    "print_results(y_valid, y_pred)"
   ]
  },
  {
   "cell_type": "code",
   "execution_count": 6,
   "metadata": {},
   "outputs": [
    {
     "name": "stdout",
     "output_type": "stream",
     "text": [
      "is_income_over_50k\n",
      "1                     0.503658\n",
      "0                     0.496342\n",
      "dtype: float64\n",
      "[[7713 2612]\n",
      " [ 398 3087]]\n",
      "F1-score: 0.6722560975609757\n",
      "precision-score: 0.541673977890858\n",
      "recall-score: 0.8857962697274031\n",
      "roc_auc-score: 0.8164090307474787\n"
     ]
    }
   ],
   "source": [
    "ros = ADASYN()\n",
    "X_ros_ad, y_ros_ad = ros.fit_resample(X_train, y_train)\n",
    "print(y_ros_ad.value_counts(normalize=True))\n",
    "\n",
    "logreg_ros = LogisticRegression(solver='liblinear')\n",
    "logreg_ros.fit(X_ros_ad, y_ros_ad)\n",
    "y_pred = logreg_ros.predict(X_valid)\n",
    "\n",
    "print_results(y_valid, y_pred)"
   ]
  },
  {
   "cell_type": "code",
   "execution_count": 47,
   "metadata": {},
   "outputs": [
    {
     "name": "stdout",
     "output_type": "stream",
     "text": [
      "[[8120 2205]\n",
      " [ 514 2971]]\n",
      "F1-score: 0.6860639649001269\n",
      "precision-score: 0.5739953632148377\n",
      "recall-score: 0.8525107604017217\n",
      "roc_auc-score: 0.8194757191839117\n"
     ]
    }
   ],
   "source": [
    "logreg_params = {'C': np.logspace(-3, 3, 10), 'penalty': ['l2', 'l1']}\n",
    "logreg_grid = GridSearchCV(logreg_ros, logreg_params, cv=5, scoring='f1')\n",
    "logreg_grid.fit(X_ros, y_ros)\n",
    "\n",
    "y_pred = logreg_grid.best_estimator_.predict(X_valid)\n",
    "print_results(y_valid, y_pred)"
   ]
  },
  {
   "cell_type": "markdown",
   "metadata": {},
   "source": [
    "SVM"
   ]
  },
  {
   "cell_type": "code",
   "execution_count": 7,
   "metadata": {},
   "outputs": [
    {
     "name": "stdout",
     "output_type": "stream",
     "text": [
      "[0.93288136 0.5974175 ]\n",
      "0.5974175035868006\n"
     ]
    }
   ],
   "source": [
    "from sklearn import svm\n",
    "C = 1.0\n",
    "model1 = svm.SVC(kernel='linear', C=C)\n",
    "model1.fit(X_train, y_train)\n",
    "y_predict = model1.predict(X_valid)\n",
    "print(recall_score(y_valid, y_predict, average=None))\n",
    "print(recall_score(y_valid, y_predict))"
   ]
  },
  {
   "cell_type": "code",
   "execution_count": 49,
   "metadata": {},
   "outputs": [
    {
     "name": "stdout",
     "output_type": "stream",
     "text": [
      "[0.93791768 0.5928264 ]\n",
      "0.5928263988522238\n"
     ]
    }
   ],
   "source": [
    "C = 0.464\n",
    "model1 = svm.LinearSVC(C=C, max_iter=10000)\n",
    "model1.fit(X_train, y_train)\n",
    "y_predict = model1.predict(X_valid)\n",
    "print(recall_score(y_valid, y_predict, average=None))\n",
    "print(recall_score(y_valid, y_predict))"
   ]
  },
  {
   "cell_type": "code",
   "execution_count": 50,
   "metadata": {},
   "outputs": [
    {
     "name": "stdout",
     "output_type": "stream",
     "text": [
      "[0.85578692 0.54949785]\n",
      "0.5494978479196556\n"
     ]
    }
   ],
   "source": [
    "model1 = svm.SVC(kernel='sigmoid', C=C, max_iter=10000)\n",
    "model1.fit(X_train, y_train)\n",
    "y_predict = model1.predict(X_valid)\n",
    "print(recall_score(y_valid, y_predict, average=None))\n",
    "print(recall_score(y_valid, y_predict))"
   ]
  },
  {
   "cell_type": "code",
   "execution_count": 51,
   "metadata": {},
   "outputs": [
    {
     "name": "stdout",
     "output_type": "stream",
     "text": [
      "[0.94934625 0.45451937]\n"
     ]
    }
   ],
   "source": [
    "model1 = svm.SVC(kernel='rbf', gamma=0.7, C=C)\n",
    "model1.fit(X_train, y_train)\n",
    "y_predict = model1.predict(X_valid)\n",
    "print(recall_score(y_valid, y_predict, average=None))"
   ]
  },
  {
   "cell_type": "code",
   "execution_count": 52,
   "metadata": {},
   "outputs": [
    {
     "name": "stdout",
     "output_type": "stream",
     "text": [
      "[0.93501211 0.5687231 ]\n",
      "0.5687230989956958\n"
     ]
    }
   ],
   "source": [
    "model1 = svm.SVC(kernel='poly', degree=3, gamma='auto', C=C)\n",
    "model1.fit(X_train, y_train)\n",
    "y_predict = model1.predict(X_valid)\n",
    "print(recall_score(y_valid, y_predict, average=None))\n",
    "print(recall_score(y_valid, y_predict))"
   ]
  }
 ],
 "metadata": {
  "interpreter": {
   "hash": "e37d4d0ca2b741f3200f91a57818feaa9a3fc1d1154b9f08d6aabe14a41e5dd1"
  },
  "kernelspec": {
   "display_name": "Python 3.8.10 64-bit",
   "language": "python",
   "name": "python3"
  },
  "language_info": {
   "codemirror_mode": {
    "name": "ipython",
    "version": 3
   },
   "file_extension": ".py",
   "mimetype": "text/x-python",
   "name": "python",
   "nbconvert_exporter": "python",
   "pygments_lexer": "ipython3",
   "version": "3.8.10"
  },
  "orig_nbformat": 4
 },
 "nbformat": 4,
 "nbformat_minor": 2
}
